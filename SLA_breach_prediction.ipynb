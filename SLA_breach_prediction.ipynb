{
 "cells": [
  {
   "cell_type": "markdown",
   "metadata": {},
   "source": [
    "# SLA Breach Prediction"
   ]
  },
  {
   "cell_type": "code",
   "execution_count": 33,
   "metadata": {},
   "outputs": [],
   "source": [
    "# Import Libraries\n",
    "import pandas as pd\n",
    "import numpy as np\n",
    "import matplotlib.pyplot as plt\n",
    "import seaborn as sns\n",
    "from sklearn.model_selection import train_test_split\n",
    "from sklearn.linear_model import LogisticRegression\n",
    "from sklearn.neighbors import KNeighborsClassifier\n",
    "from sklearn.tree import DecisionTreeClassifier\n",
    "from sklearn.metrics import accuracy_score, confusion_matrix, classification_report\n",
    "from statsmodels.stats.outliers_influence import variance_inflation_factor\n",
    "from sklearn.decomposition import PCA\n",
    "from sklearn import preprocessing\n",
    "from sklearn import tree\n",
    "import sklearn.metrics as metrics\n",
    "from sklearn import svm\n",
    "import statsmodels.api as sm\n",
    "from sklearn.naive_bayes import GaussianNB\n",
    "\n",
    "import warnings\n",
    "warnings.filterwarnings('ignore')"
   ]
  },
  {
   "cell_type": "code",
   "execution_count": 3,
   "metadata": {
    "scrolled": true
   },
   "outputs": [
    {
     "data": {
      "text/html": [
       "<div>\n",
       "<style scoped>\n",
       "    .dataframe tbody tr th:only-of-type {\n",
       "        vertical-align: middle;\n",
       "    }\n",
       "\n",
       "    .dataframe tbody tr th {\n",
       "        vertical-align: top;\n",
       "    }\n",
       "\n",
       "    .dataframe thead th {\n",
       "        text-align: right;\n",
       "    }\n",
       "</style>\n",
       "<table border=\"1\" class=\"dataframe\">\n",
       "  <thead>\n",
       "    <tr style=\"text-align: right;\">\n",
       "      <th></th>\n",
       "      <th>Id</th>\n",
       "      <th>DocumentId</th>\n",
       "      <th>SlaMoment</th>\n",
       "      <th>NumberPages</th>\n",
       "      <th>SugestedDocumentClass</th>\n",
       "      <th>RequestedHumanRevision</th>\n",
       "      <th>QualityControl</th>\n",
       "      <th>CustomerName</th>\n",
       "      <th>EntityName</th>\n",
       "      <th>DocumentMonitorId</th>\n",
       "      <th>FinishedAt</th>\n",
       "      <th>time_diff</th>\n",
       "      <th>DocumentMonitorId.1</th>\n",
       "      <th>pf_human</th>\n",
       "      <th>efv</th>\n",
       "      <th>pfd_topdown</th>\n",
       "      <th>pfd_poised</th>\n",
       "      <th>sfv_human</th>\n",
       "      <th>sfv_ML</th>\n",
       "      <th>Breach</th>\n",
       "    </tr>\n",
       "  </thead>\n",
       "  <tbody>\n",
       "    <tr>\n",
       "      <th>0</th>\n",
       "      <td>109524</td>\n",
       "      <td>7c1a7831-96a0-4297-9c96-d2dcf296f294</td>\n",
       "      <td>55:00.0</td>\n",
       "      <td>2</td>\n",
       "      <td>dni_front,dni_back</td>\n",
       "      <td>1</td>\n",
       "      <td>0</td>\n",
       "      <td>Anonymized 0AEB069F-A0F3-4B64-BA3D-83228E071AF3</td>\n",
       "      <td>Anonymized 0AEB069F-A0F3-4B64-BA3D-83228E071AF3</td>\n",
       "      <td>109524</td>\n",
       "      <td>15:14.3</td>\n",
       "      <td>400.0</td>\n",
       "      <td>109524</td>\n",
       "      <td>2</td>\n",
       "      <td>6</td>\n",
       "      <td>0</td>\n",
       "      <td>4</td>\n",
       "      <td>0</td>\n",
       "      <td>6</td>\n",
       "      <td>No</td>\n",
       "    </tr>\n",
       "    <tr>\n",
       "      <th>1</th>\n",
       "      <td>109525</td>\n",
       "      <td>74497e9e-3e13-4a55-b4fc-5dd36621031f</td>\n",
       "      <td>56:00.0</td>\n",
       "      <td>2</td>\n",
       "      <td>dni_front,dni_back</td>\n",
       "      <td>1</td>\n",
       "      <td>0</td>\n",
       "      <td>Anonymized 0AEB069F-A0F3-4B64-BA3D-83228E071AF3</td>\n",
       "      <td>Anonymized 0AEB069F-A0F3-4B64-BA3D-83228E071AF3</td>\n",
       "      <td>109525</td>\n",
       "      <td>14:58.6</td>\n",
       "      <td>402.0</td>\n",
       "      <td>109525</td>\n",
       "      <td>2</td>\n",
       "      <td>6</td>\n",
       "      <td>0</td>\n",
       "      <td>4</td>\n",
       "      <td>0</td>\n",
       "      <td>6</td>\n",
       "      <td>No</td>\n",
       "    </tr>\n",
       "    <tr>\n",
       "      <th>2</th>\n",
       "      <td>109526</td>\n",
       "      <td>51816260-f5cd-45fd-af8c-6dec8184b533</td>\n",
       "      <td>58:00.0</td>\n",
       "      <td>2</td>\n",
       "      <td>dni_front,dni_back</td>\n",
       "      <td>1</td>\n",
       "      <td>0</td>\n",
       "      <td>Anonymized 0AEB069F-A0F3-4B64-BA3D-83228E071AF3</td>\n",
       "      <td>Anonymized 0AEB069F-A0F3-4B64-BA3D-83228E071AF3</td>\n",
       "      <td>109526</td>\n",
       "      <td>16:41.8</td>\n",
       "      <td>402.0</td>\n",
       "      <td>109526</td>\n",
       "      <td>2</td>\n",
       "      <td>6</td>\n",
       "      <td>0</td>\n",
       "      <td>4</td>\n",
       "      <td>0</td>\n",
       "      <td>6</td>\n",
       "      <td>No</td>\n",
       "    </tr>\n",
       "    <tr>\n",
       "      <th>3</th>\n",
       "      <td>109527</td>\n",
       "      <td>002a7749-20eb-495f-a655-a839b2e6b2ec</td>\n",
       "      <td>57:00.0</td>\n",
       "      <td>2</td>\n",
       "      <td>dni_front,dni_back</td>\n",
       "      <td>1</td>\n",
       "      <td>0</td>\n",
       "      <td>Anonymized 0AEB069F-A0F3-4B64-BA3D-83228E071AF3</td>\n",
       "      <td>Anonymized 0AEB069F-A0F3-4B64-BA3D-83228E071AF3</td>\n",
       "      <td>109527</td>\n",
       "      <td>15:14.4</td>\n",
       "      <td>402.0</td>\n",
       "      <td>109527</td>\n",
       "      <td>2</td>\n",
       "      <td>6</td>\n",
       "      <td>0</td>\n",
       "      <td>4</td>\n",
       "      <td>1</td>\n",
       "      <td>5</td>\n",
       "      <td>No</td>\n",
       "    </tr>\n",
       "    <tr>\n",
       "      <th>4</th>\n",
       "      <td>109528</td>\n",
       "      <td>06bda106-5afe-4ae3-88b7-1a11eb7e7bd5</td>\n",
       "      <td>59:00.0</td>\n",
       "      <td>1</td>\n",
       "      <td>dni_front,dni_back</td>\n",
       "      <td>1</td>\n",
       "      <td>0</td>\n",
       "      <td>Anonymized 0AEB069F-A0F3-4B64-BA3D-83228E071AF3</td>\n",
       "      <td>Anonymized 0AEB069F-A0F3-4B64-BA3D-83228E071AF3</td>\n",
       "      <td>109528</td>\n",
       "      <td>16:05.1</td>\n",
       "      <td>403.0</td>\n",
       "      <td>109528</td>\n",
       "      <td>1</td>\n",
       "      <td>6</td>\n",
       "      <td>0</td>\n",
       "      <td>2</td>\n",
       "      <td>0</td>\n",
       "      <td>6</td>\n",
       "      <td>No</td>\n",
       "    </tr>\n",
       "  </tbody>\n",
       "</table>\n",
       "</div>"
      ],
      "text/plain": [
       "       Id                            DocumentId SlaMoment  NumberPages  \\\n",
       "0  109524  7c1a7831-96a0-4297-9c96-d2dcf296f294   55:00.0            2   \n",
       "1  109525  74497e9e-3e13-4a55-b4fc-5dd36621031f   56:00.0            2   \n",
       "2  109526  51816260-f5cd-45fd-af8c-6dec8184b533   58:00.0            2   \n",
       "3  109527  002a7749-20eb-495f-a655-a839b2e6b2ec   57:00.0            2   \n",
       "4  109528  06bda106-5afe-4ae3-88b7-1a11eb7e7bd5   59:00.0            1   \n",
       "\n",
       "  SugestedDocumentClass  RequestedHumanRevision  QualityControl  \\\n",
       "0    dni_front,dni_back                       1               0   \n",
       "1    dni_front,dni_back                       1               0   \n",
       "2    dni_front,dni_back                       1               0   \n",
       "3    dni_front,dni_back                       1               0   \n",
       "4    dni_front,dni_back                       1               0   \n",
       "\n",
       "                                      CustomerName  \\\n",
       "0  Anonymized 0AEB069F-A0F3-4B64-BA3D-83228E071AF3   \n",
       "1  Anonymized 0AEB069F-A0F3-4B64-BA3D-83228E071AF3   \n",
       "2  Anonymized 0AEB069F-A0F3-4B64-BA3D-83228E071AF3   \n",
       "3  Anonymized 0AEB069F-A0F3-4B64-BA3D-83228E071AF3   \n",
       "4  Anonymized 0AEB069F-A0F3-4B64-BA3D-83228E071AF3   \n",
       "\n",
       "                                        EntityName  DocumentMonitorId  \\\n",
       "0  Anonymized 0AEB069F-A0F3-4B64-BA3D-83228E071AF3             109524   \n",
       "1  Anonymized 0AEB069F-A0F3-4B64-BA3D-83228E071AF3             109525   \n",
       "2  Anonymized 0AEB069F-A0F3-4B64-BA3D-83228E071AF3             109526   \n",
       "3  Anonymized 0AEB069F-A0F3-4B64-BA3D-83228E071AF3             109527   \n",
       "4  Anonymized 0AEB069F-A0F3-4B64-BA3D-83228E071AF3             109528   \n",
       "\n",
       "  FinishedAt  time_diff  DocumentMonitorId.1  pf_human  efv  pfd_topdown  \\\n",
       "0    15:14.3      400.0               109524         2    6            0   \n",
       "1    14:58.6      402.0               109525         2    6            0   \n",
       "2    16:41.8      402.0               109526         2    6            0   \n",
       "3    15:14.4      402.0               109527         2    6            0   \n",
       "4    16:05.1      403.0               109528         1    6            0   \n",
       "\n",
       "   pfd_poised  sfv_human  sfv_ML Breach  \n",
       "0           4          0       6     No  \n",
       "1           4          0       6     No  \n",
       "2           4          0       6     No  \n",
       "3           4          1       5     No  \n",
       "4           2          0       6     No  "
      ]
     },
     "execution_count": 3,
     "metadata": {},
     "output_type": "execute_result"
    }
   ],
   "source": [
    "# Read the dataset\n",
    "df = pd.read_csv(\"C://Users//appol//OneDrive//Documents//Integrated Experential proj prep//data.csv\")\n",
    "df.head()"
   ]
  },
  {
   "cell_type": "code",
   "execution_count": 4,
   "metadata": {},
   "outputs": [
    {
     "data": {
      "text/plain": [
       "(38671, 20)"
      ]
     },
     "execution_count": 4,
     "metadata": {},
     "output_type": "execute_result"
    }
   ],
   "source": [
    "# dimensions of the dataset\n",
    "df.shape"
   ]
  },
  {
   "cell_type": "code",
   "execution_count": 5,
   "metadata": {},
   "outputs": [
    {
     "name": "stdout",
     "output_type": "stream",
     "text": [
      "<class 'pandas.core.frame.DataFrame'>\n",
      "RangeIndex: 38671 entries, 0 to 38670\n",
      "Data columns (total 20 columns):\n",
      " #   Column                  Non-Null Count  Dtype  \n",
      "---  ------                  --------------  -----  \n",
      " 0   Id                      38671 non-null  int64  \n",
      " 1   DocumentId              38671 non-null  object \n",
      " 2   SlaMoment               35576 non-null  object \n",
      " 3   NumberPages             38671 non-null  int64  \n",
      " 4   SugestedDocumentClass   21848 non-null  object \n",
      " 5   RequestedHumanRevision  38671 non-null  int64  \n",
      " 6   QualityControl          38671 non-null  int64  \n",
      " 7   CustomerName            38671 non-null  object \n",
      " 8   EntityName              38671 non-null  object \n",
      " 9   DocumentMonitorId       38671 non-null  int64  \n",
      " 10  FinishedAt              37125 non-null  object \n",
      " 11  time_diff               34050 non-null  float64\n",
      " 12  DocumentMonitorId.1     38671 non-null  int64  \n",
      " 13  pf_human                38671 non-null  int64  \n",
      " 14  efv                     38671 non-null  int64  \n",
      " 15  pfd_topdown             38671 non-null  int64  \n",
      " 16  pfd_poised              38671 non-null  int64  \n",
      " 17  sfv_human               38671 non-null  int64  \n",
      " 18  sfv_ML                  38671 non-null  int64  \n",
      " 19  Breach                  38671 non-null  object \n",
      "dtypes: float64(1), int64(12), object(7)\n",
      "memory usage: 5.9+ MB\n"
     ]
    }
   ],
   "source": [
    "# Check the data types of the variables\n",
    "df.info()"
   ]
  },
  {
   "cell_type": "code",
   "execution_count": 6,
   "metadata": {},
   "outputs": [
    {
     "data": {
      "text/plain": [
       "Index(['Id', 'DocumentId', 'SlaMoment', 'NumberPages', 'SugestedDocumentClass',\n",
       "       'RequestedHumanRevision', 'QualityControl', 'CustomerName',\n",
       "       'EntityName', 'DocumentMonitorId', 'FinishedAt', 'time_diff',\n",
       "       'DocumentMonitorId.1', 'pf_human', 'efv', 'pfd_topdown', 'pfd_poised',\n",
       "       'sfv_human', 'sfv_ML', 'Breach'],\n",
       "      dtype='object')"
      ]
     },
     "execution_count": 6,
     "metadata": {},
     "output_type": "execute_result"
    }
   ],
   "source": [
    "# Columns in the dataset\n",
    "df.columns"
   ]
  },
  {
   "cell_type": "code",
   "execution_count": 7,
   "metadata": {},
   "outputs": [
    {
     "data": {
      "text/html": [
       "<div>\n",
       "<style scoped>\n",
       "    .dataframe tbody tr th:only-of-type {\n",
       "        vertical-align: middle;\n",
       "    }\n",
       "\n",
       "    .dataframe tbody tr th {\n",
       "        vertical-align: top;\n",
       "    }\n",
       "\n",
       "    .dataframe thead th {\n",
       "        text-align: right;\n",
       "    }\n",
       "</style>\n",
       "<table border=\"1\" class=\"dataframe\">\n",
       "  <thead>\n",
       "    <tr style=\"text-align: right;\">\n",
       "      <th></th>\n",
       "      <th>Id</th>\n",
       "      <th>NumberPages</th>\n",
       "      <th>RequestedHumanRevision</th>\n",
       "      <th>QualityControl</th>\n",
       "      <th>DocumentMonitorId</th>\n",
       "      <th>time_diff</th>\n",
       "      <th>DocumentMonitorId.1</th>\n",
       "      <th>pf_human</th>\n",
       "      <th>efv</th>\n",
       "      <th>pfd_topdown</th>\n",
       "      <th>pfd_poised</th>\n",
       "      <th>sfv_human</th>\n",
       "      <th>sfv_ML</th>\n",
       "    </tr>\n",
       "  </thead>\n",
       "  <tbody>\n",
       "    <tr>\n",
       "      <th>count</th>\n",
       "      <td>38671.000000</td>\n",
       "      <td>38671.000000</td>\n",
       "      <td>38671.000000</td>\n",
       "      <td>38671.000000</td>\n",
       "      <td>38671.000000</td>\n",
       "      <td>34050.000000</td>\n",
       "      <td>38671.000000</td>\n",
       "      <td>38671.000000</td>\n",
       "      <td>38671.000000</td>\n",
       "      <td>38671.000000</td>\n",
       "      <td>38671.000000</td>\n",
       "      <td>38671.000000</td>\n",
       "      <td>38671.000000</td>\n",
       "    </tr>\n",
       "    <tr>\n",
       "      <th>mean</th>\n",
       "      <td>128879.507771</td>\n",
       "      <td>1.569471</td>\n",
       "      <td>0.933930</td>\n",
       "      <td>0.066070</td>\n",
       "      <td>128879.507771</td>\n",
       "      <td>540.128899</td>\n",
       "      <td>128879.507771</td>\n",
       "      <td>1.569471</td>\n",
       "      <td>5.183548</td>\n",
       "      <td>0.702697</td>\n",
       "      <td>2.403455</td>\n",
       "      <td>0.937602</td>\n",
       "      <td>4.176618</td>\n",
       "    </tr>\n",
       "    <tr>\n",
       "      <th>std</th>\n",
       "      <td>11181.617395</td>\n",
       "      <td>1.596893</td>\n",
       "      <td>0.248408</td>\n",
       "      <td>0.248408</td>\n",
       "      <td>11181.617395</td>\n",
       "      <td>935.276101</td>\n",
       "      <td>11181.617395</td>\n",
       "      <td>1.596893</td>\n",
       "      <td>9.684438</td>\n",
       "      <td>3.618977</td>\n",
       "      <td>1.623856</td>\n",
       "      <td>7.185435</td>\n",
       "      <td>3.080993</td>\n",
       "    </tr>\n",
       "    <tr>\n",
       "      <th>min</th>\n",
       "      <td>109524.000000</td>\n",
       "      <td>1.000000</td>\n",
       "      <td>0.000000</td>\n",
       "      <td>0.000000</td>\n",
       "      <td>109524.000000</td>\n",
       "      <td>-4256.000000</td>\n",
       "      <td>109524.000000</td>\n",
       "      <td>1.000000</td>\n",
       "      <td>0.000000</td>\n",
       "      <td>0.000000</td>\n",
       "      <td>0.000000</td>\n",
       "      <td>0.000000</td>\n",
       "      <td>0.000000</td>\n",
       "    </tr>\n",
       "    <tr>\n",
       "      <th>25%</th>\n",
       "      <td>119196.500000</td>\n",
       "      <td>1.000000</td>\n",
       "      <td>1.000000</td>\n",
       "      <td>0.000000</td>\n",
       "      <td>119196.500000</td>\n",
       "      <td>40.000000</td>\n",
       "      <td>119196.500000</td>\n",
       "      <td>1.000000</td>\n",
       "      <td>3.000000</td>\n",
       "      <td>0.000000</td>\n",
       "      <td>1.000000</td>\n",
       "      <td>0.000000</td>\n",
       "      <td>2.000000</td>\n",
       "    </tr>\n",
       "    <tr>\n",
       "      <th>50%</th>\n",
       "      <td>128878.000000</td>\n",
       "      <td>1.000000</td>\n",
       "      <td>1.000000</td>\n",
       "      <td>0.000000</td>\n",
       "      <td>128878.000000</td>\n",
       "      <td>245.000000</td>\n",
       "      <td>128878.000000</td>\n",
       "      <td>1.000000</td>\n",
       "      <td>6.000000</td>\n",
       "      <td>0.000000</td>\n",
       "      <td>2.000000</td>\n",
       "      <td>0.000000</td>\n",
       "      <td>5.000000</td>\n",
       "    </tr>\n",
       "    <tr>\n",
       "      <th>75%</th>\n",
       "      <td>138545.500000</td>\n",
       "      <td>2.000000</td>\n",
       "      <td>1.000000</td>\n",
       "      <td>0.000000</td>\n",
       "      <td>138545.500000</td>\n",
       "      <td>1015.000000</td>\n",
       "      <td>138545.500000</td>\n",
       "      <td>2.000000</td>\n",
       "      <td>6.000000</td>\n",
       "      <td>0.000000</td>\n",
       "      <td>4.000000</td>\n",
       "      <td>1.000000</td>\n",
       "      <td>6.000000</td>\n",
       "    </tr>\n",
       "    <tr>\n",
       "      <th>max</th>\n",
       "      <td>148328.000000</td>\n",
       "      <td>68.000000</td>\n",
       "      <td>1.000000</td>\n",
       "      <td>1.000000</td>\n",
       "      <td>148328.000000</td>\n",
       "      <td>4257.000000</td>\n",
       "      <td>148328.000000</td>\n",
       "      <td>68.000000</td>\n",
       "      <td>792.000000</td>\n",
       "      <td>144.000000</td>\n",
       "      <td>38.000000</td>\n",
       "      <td>646.000000</td>\n",
       "      <td>103.000000</td>\n",
       "    </tr>\n",
       "  </tbody>\n",
       "</table>\n",
       "</div>"
      ],
      "text/plain": [
       "                  Id   NumberPages  RequestedHumanRevision  QualityControl  \\\n",
       "count   38671.000000  38671.000000            38671.000000    38671.000000   \n",
       "mean   128879.507771      1.569471                0.933930        0.066070   \n",
       "std     11181.617395      1.596893                0.248408        0.248408   \n",
       "min    109524.000000      1.000000                0.000000        0.000000   \n",
       "25%    119196.500000      1.000000                1.000000        0.000000   \n",
       "50%    128878.000000      1.000000                1.000000        0.000000   \n",
       "75%    138545.500000      2.000000                1.000000        0.000000   \n",
       "max    148328.000000     68.000000                1.000000        1.000000   \n",
       "\n",
       "       DocumentMonitorId     time_diff  DocumentMonitorId.1      pf_human  \\\n",
       "count       38671.000000  34050.000000         38671.000000  38671.000000   \n",
       "mean       128879.507771    540.128899        128879.507771      1.569471   \n",
       "std         11181.617395    935.276101         11181.617395      1.596893   \n",
       "min        109524.000000  -4256.000000        109524.000000      1.000000   \n",
       "25%        119196.500000     40.000000        119196.500000      1.000000   \n",
       "50%        128878.000000    245.000000        128878.000000      1.000000   \n",
       "75%        138545.500000   1015.000000        138545.500000      2.000000   \n",
       "max        148328.000000   4257.000000        148328.000000     68.000000   \n",
       "\n",
       "                efv   pfd_topdown    pfd_poised     sfv_human        sfv_ML  \n",
       "count  38671.000000  38671.000000  38671.000000  38671.000000  38671.000000  \n",
       "mean       5.183548      0.702697      2.403455      0.937602      4.176618  \n",
       "std        9.684438      3.618977      1.623856      7.185435      3.080993  \n",
       "min        0.000000      0.000000      0.000000      0.000000      0.000000  \n",
       "25%        3.000000      0.000000      1.000000      0.000000      2.000000  \n",
       "50%        6.000000      0.000000      2.000000      0.000000      5.000000  \n",
       "75%        6.000000      0.000000      4.000000      1.000000      6.000000  \n",
       "max      792.000000    144.000000     38.000000    646.000000    103.000000  "
      ]
     },
     "execution_count": 7,
     "metadata": {},
     "output_type": "execute_result"
    }
   ],
   "source": [
    "# Descriptive statistics\n",
    "df.describe()"
   ]
  },
  {
   "cell_type": "markdown",
   "metadata": {},
   "source": [
    "### Data Cleanup"
   ]
  },
  {
   "cell_type": "code",
   "execution_count": 8,
   "metadata": {
    "scrolled": true
   },
   "outputs": [
    {
     "data": {
      "text/plain": [
       "Id                        False\n",
       "DocumentId                False\n",
       "SlaMoment                  True\n",
       "NumberPages               False\n",
       "SugestedDocumentClass      True\n",
       "RequestedHumanRevision    False\n",
       "QualityControl            False\n",
       "CustomerName              False\n",
       "EntityName                False\n",
       "DocumentMonitorId         False\n",
       "FinishedAt                 True\n",
       "time_diff                  True\n",
       "DocumentMonitorId.1       False\n",
       "pf_human                  False\n",
       "efv                       False\n",
       "pfd_topdown               False\n",
       "pfd_poised                False\n",
       "sfv_human                 False\n",
       "sfv_ML                    False\n",
       "Breach                    False\n",
       "dtype: bool"
      ]
     },
     "execution_count": 8,
     "metadata": {},
     "output_type": "execute_result"
    }
   ],
   "source": [
    "# Check null values \n",
    "df.isnull().any()"
   ]
  },
  {
   "cell_type": "code",
   "execution_count": 9,
   "metadata": {},
   "outputs": [
    {
     "data": {
      "image/png": "[encoded data removed]",
      "text/plain": [
       "<Figure size 936x792 with 16 Axes>"
      ]
     },
     "metadata": {
      "needs_background": "light"
     },
     "output_type": "display_data"
    }
   ],
   "source": [
    "# Check the distribution of varibales in the datafrane\n",
    "df.hist(figsize=(13,11),bins=20)\n",
    "plt.show()"
   ]
  },
  {
   "cell_type": "code",
   "execution_count": 11,
   "metadata": {},
   "outputs": [
    {
     "data": {
      "text/plain": [
       "0    34558\n",
       "1     4113\n",
       "Name: breach, dtype: int64"
      ]
     },
     "execution_count": 11,
     "metadata": {},
     "output_type": "execute_result"
    }
   ],
   "source": [
    "# Create our predictor variable using the calculated time difference\n",
    "df['breach'] = np.where(df['time_diff'] < 0, 1, 0)\n",
    "df['breach'].value_counts()"
   ]
  },
  {
   "cell_type": "code",
   "execution_count": 12,
   "metadata": {},
   "outputs": [
    {
     "data": {
      "text/html": [
       "<div>\n",
       "<style scoped>\n",
       "    .dataframe tbody tr th:only-of-type {\n",
       "        vertical-align: middle;\n",
       "    }\n",
       "\n",
       "    .dataframe tbody tr th {\n",
       "        vertical-align: top;\n",
       "    }\n",
       "\n",
       "    .dataframe thead th {\n",
       "        text-align: right;\n",
       "    }\n",
       "</style>\n",
       "<table border=\"1\" class=\"dataframe\">\n",
       "  <thead>\n",
       "    <tr style=\"text-align: right;\">\n",
       "      <th></th>\n",
       "      <th>Id</th>\n",
       "      <th>DocumentId</th>\n",
       "      <th>SlaMoment</th>\n",
       "      <th>NumberPages</th>\n",
       "      <th>SugestedDocumentClass</th>\n",
       "      <th>RequestedHumanRevision</th>\n",
       "      <th>QualityControl</th>\n",
       "      <th>CustomerName</th>\n",
       "      <th>EntityName</th>\n",
       "      <th>DocumentMonitorId</th>\n",
       "      <th>...</th>\n",
       "      <th>pfd_poised</th>\n",
       "      <th>sfv_human</th>\n",
       "      <th>sfv_ML</th>\n",
       "      <th>Breach</th>\n",
       "      <th>doc1</th>\n",
       "      <th>doc2</th>\n",
       "      <th>isdoc1</th>\n",
       "      <th>isdoc2</th>\n",
       "      <th>HasMultipleDocumentClass</th>\n",
       "      <th>breach</th>\n",
       "    </tr>\n",
       "  </thead>\n",
       "  <tbody>\n",
       "    <tr>\n",
       "      <th>0</th>\n",
       "      <td>109524</td>\n",
       "      <td>7c1a7831-96a0-4297-9c96-d2dcf296f294</td>\n",
       "      <td>55:00.0</td>\n",
       "      <td>2</td>\n",
       "      <td>dni_front,dni_back</td>\n",
       "      <td>1</td>\n",
       "      <td>0</td>\n",
       "      <td>Anonymized 0AEB069F-A0F3-4B64-BA3D-83228E071AF3</td>\n",
       "      <td>Anonymized 0AEB069F-A0F3-4B64-BA3D-83228E071AF3</td>\n",
       "      <td>109524</td>\n",
       "      <td>...</td>\n",
       "      <td>4</td>\n",
       "      <td>0</td>\n",
       "      <td>6</td>\n",
       "      <td>No</td>\n",
       "      <td>dni_front</td>\n",
       "      <td>dni_back</td>\n",
       "      <td>1</td>\n",
       "      <td>1</td>\n",
       "      <td>2</td>\n",
       "      <td>0</td>\n",
       "    </tr>\n",
       "    <tr>\n",
       "      <th>1</th>\n",
       "      <td>109525</td>\n",
       "      <td>74497e9e-3e13-4a55-b4fc-5dd36621031f</td>\n",
       "      <td>56:00.0</td>\n",
       "      <td>2</td>\n",
       "      <td>dni_front,dni_back</td>\n",
       "      <td>1</td>\n",
       "      <td>0</td>\n",
       "      <td>Anonymized 0AEB069F-A0F3-4B64-BA3D-83228E071AF3</td>\n",
       "      <td>Anonymized 0AEB069F-A0F3-4B64-BA3D-83228E071AF3</td>\n",
       "      <td>109525</td>\n",
       "      <td>...</td>\n",
       "      <td>4</td>\n",
       "      <td>0</td>\n",
       "      <td>6</td>\n",
       "      <td>No</td>\n",
       "      <td>dni_front</td>\n",
       "      <td>dni_back</td>\n",
       "      <td>1</td>\n",
       "      <td>1</td>\n",
       "      <td>2</td>\n",
       "      <td>0</td>\n",
       "    </tr>\n",
       "    <tr>\n",
       "      <th>2</th>\n",
       "      <td>109526</td>\n",
       "      <td>51816260-f5cd-45fd-af8c-6dec8184b533</td>\n",
       "      <td>58:00.0</td>\n",
       "      <td>2</td>\n",
       "      <td>dni_front,dni_back</td>\n",
       "      <td>1</td>\n",
       "      <td>0</td>\n",
       "      <td>Anonymized 0AEB069F-A0F3-4B64-BA3D-83228E071AF3</td>\n",
       "      <td>Anonymized 0AEB069F-A0F3-4B64-BA3D-83228E071AF3</td>\n",
       "      <td>109526</td>\n",
       "      <td>...</td>\n",
       "      <td>4</td>\n",
       "      <td>0</td>\n",
       "      <td>6</td>\n",
       "      <td>No</td>\n",
       "      <td>dni_front</td>\n",
       "      <td>dni_back</td>\n",
       "      <td>1</td>\n",
       "      <td>1</td>\n",
       "      <td>2</td>\n",
       "      <td>0</td>\n",
       "    </tr>\n",
       "    <tr>\n",
       "      <th>3</th>\n",
       "      <td>109527</td>\n",
       "      <td>002a7749-20eb-495f-a655-a839b2e6b2ec</td>\n",
       "      <td>57:00.0</td>\n",
       "      <td>2</td>\n",
       "      <td>dni_front,dni_back</td>\n",
       "      <td>1</td>\n",
       "      <td>0</td>\n",
       "      <td>Anonymized 0AEB069F-A0F3-4B64-BA3D-83228E071AF3</td>\n",
       "      <td>Anonymized 0AEB069F-A0F3-4B64-BA3D-83228E071AF3</td>\n",
       "      <td>109527</td>\n",
       "      <td>...</td>\n",
       "      <td>4</td>\n",
       "      <td>1</td>\n",
       "      <td>5</td>\n",
       "      <td>No</td>\n",
       "      <td>dni_front</td>\n",
       "      <td>dni_back</td>\n",
       "      <td>1</td>\n",
       "      <td>1</td>\n",
       "      <td>2</td>\n",
       "      <td>0</td>\n",
       "    </tr>\n",
       "    <tr>\n",
       "      <th>4</th>\n",
       "      <td>109528</td>\n",
       "      <td>06bda106-5afe-4ae3-88b7-1a11eb7e7bd5</td>\n",
       "      <td>59:00.0</td>\n",
       "      <td>1</td>\n",
       "      <td>dni_front,dni_back</td>\n",
       "      <td>1</td>\n",
       "      <td>0</td>\n",
       "      <td>Anonymized 0AEB069F-A0F3-4B64-BA3D-83228E071AF3</td>\n",
       "      <td>Anonymized 0AEB069F-A0F3-4B64-BA3D-83228E071AF3</td>\n",
       "      <td>109528</td>\n",
       "      <td>...</td>\n",
       "      <td>2</td>\n",
       "      <td>0</td>\n",
       "      <td>6</td>\n",
       "      <td>No</td>\n",
       "      <td>dni_front</td>\n",
       "      <td>dni_back</td>\n",
       "      <td>1</td>\n",
       "      <td>1</td>\n",
       "      <td>2</td>\n",
       "      <td>0</td>\n",
       "    </tr>\n",
       "  </tbody>\n",
       "</table>\n",
       "<p>5 rows × 26 columns</p>\n",
       "</div>"
      ],
      "text/plain": [
       "       Id                            DocumentId SlaMoment  NumberPages  \\\n",
       "0  109524  7c1a7831-96a0-4297-9c96-d2dcf296f294   55:00.0            2   \n",
       "1  109525  74497e9e-3e13-4a55-b4fc-5dd36621031f   56:00.0            2   \n",
       "2  109526  51816260-f5cd-45fd-af8c-6dec8184b533   58:00.0            2   \n",
       "3  109527  002a7749-20eb-495f-a655-a839b2e6b2ec   57:00.0            2   \n",
       "4  109528  06bda106-5afe-4ae3-88b7-1a11eb7e7bd5   59:00.0            1   \n",
       "\n",
       "  SugestedDocumentClass  RequestedHumanRevision  QualityControl  \\\n",
       "0    dni_front,dni_back                       1               0   \n",
       "1    dni_front,dni_back                       1               0   \n",
       "2    dni_front,dni_back                       1               0   \n",
       "3    dni_front,dni_back                       1               0   \n",
       "4    dni_front,dni_back                       1               0   \n",
       "\n",
       "                                      CustomerName  \\\n",
       "0  Anonymized 0AEB069F-A0F3-4B64-BA3D-83228E071AF3   \n",
       "1  Anonymized 0AEB069F-A0F3-4B64-BA3D-83228E071AF3   \n",
       "2  Anonymized 0AEB069F-A0F3-4B64-BA3D-83228E071AF3   \n",
       "3  Anonymized 0AEB069F-A0F3-4B64-BA3D-83228E071AF3   \n",
       "4  Anonymized 0AEB069F-A0F3-4B64-BA3D-83228E071AF3   \n",
       "\n",
       "                                        EntityName  DocumentMonitorId  ...  \\\n",
       "0  Anonymized 0AEB069F-A0F3-4B64-BA3D-83228E071AF3             109524  ...   \n",
       "1  Anonymized 0AEB069F-A0F3-4B64-BA3D-83228E071AF3             109525  ...   \n",
       "2  Anonymized 0AEB069F-A0F3-4B64-BA3D-83228E071AF3             109526  ...   \n",
       "3  Anonymized 0AEB069F-A0F3-4B64-BA3D-83228E071AF3             109527  ...   \n",
       "4  Anonymized 0AEB069F-A0F3-4B64-BA3D-83228E071AF3             109528  ...   \n",
       "\n",
       "  pfd_poised  sfv_human  sfv_ML  Breach       doc1      doc2  isdoc1  isdoc2  \\\n",
       "0          4          0       6      No  dni_front  dni_back       1       1   \n",
       "1          4          0       6      No  dni_front  dni_back       1       1   \n",
       "2          4          0       6      No  dni_front  dni_back       1       1   \n",
       "3          4          1       5      No  dni_front  dni_back       1       1   \n",
       "4          2          0       6      No  dni_front  dni_back       1       1   \n",
       "\n",
       "   HasMultipleDocumentClass breach  \n",
       "0                         2      0  \n",
       "1                         2      0  \n",
       "2                         2      0  \n",
       "3                         2      0  \n",
       "4                         2      0  \n",
       "\n",
       "[5 rows x 26 columns]"
      ]
     },
     "execution_count": 12,
     "metadata": {},
     "output_type": "execute_result"
    }
   ],
   "source": [
    "# Split the document classes into different variables\n",
    "df[['doc1', 'doc2']] = df['SugestedDocumentClass'].str.split(',', expand = True)\n",
    "df['isdoc1'] = np.where(df.doc1.isnull(), 0, 1)\n",
    "df['isdoc2'] = np.where(df.doc2.isnull(), 0, 1)\n",
    "df['HasMultipleDocumentClass'] = df['isdoc1'] + df['isdoc2']\n",
    "df.head()"
   ]
  },
  {
   "cell_type": "code",
   "execution_count": 13,
   "metadata": {},
   "outputs": [
    {
     "data": {
      "text/plain": [
       "Anonymized 0AEB069F-A0F3-4B64-BA3D-83228E071AF3    21256\n",
       "Anonymized 11E47A74-96BC-4C87-ADC8-395247A200B8     9783\n",
       "Anonymized 49428E4C-BA4E-4BAA-B6BA-529CFE4F1D15     2518\n",
       "Anonymized A48AA76F-A152-491F-A81F-00C31C604153     2040\n",
       "Anonymized 1A36E27A-D787-4CF4-872E-31E4FC7E5C01     1055\n",
       "Anonymized 7400E96B-C461-4EC2-B097-CF0BCCEEA164      973\n",
       "Anonymized 64A2D261-CFA0-4B57-BBF8-542FD2236F21      337\n",
       "Anonymized 27CE39D3-C4A5-486E-8EAC-2671FB128CFC      304\n",
       "Anonymized D2A6CA74-7937-48E4-B8EB-C51880B912BA      188\n",
       "Anonymized 8C7A49F3-AC1F-49BA-8B4A-6472A4211D4E      118\n",
       "Anonymized 7483B274-A481-4BBB-97C1-E99E74FA7669       45\n",
       "Anonymized ED4AE7ED-9B5C-455B-9EED-7FE918F46423       33\n",
       "Anonymized B53A8FF3-52F9-4378-B13E-573CF9BC3471       13\n",
       "Anonymized 643914C6-45A3-4D12-A2FA-63EF042D57EF        3\n",
       "Anonymized E2EFBAB6-F238-4A49-AC1F-7A07CBBDCF33        2\n",
       "Anonymized 3CBCB459-DAA7-4B18-B1A6-C0F7FB5A899E        2\n",
       "Anonymized FB65ABCB-ADE7-4C63-962F-1557B53ADC42        1\n",
       "Name: EntityName, dtype: int64"
      ]
     },
     "execution_count": 13,
     "metadata": {},
     "output_type": "execute_result"
    }
   ],
   "source": [
    "# Check the Entity Name values\n",
    "df['EntityName'].value_counts()"
   ]
  },
  {
   "cell_type": "code",
   "execution_count": 14,
   "metadata": {},
   "outputs": [],
   "source": [
    "# Categorize the entity names into four.\n",
    "df['EntityName'] = np.where(df['EntityName'] == 'Anonymized 0AEB069F-A0F3-4B64-BA3D-83228E071AF3', 'ent1', \n",
    "         np.where(df['EntityName'] == 'Anonymized 11E47A74-96BC-4C87-ADC8-395247A200B8', 'ent2', \n",
    "                 np.where(df['EntityName'] == 'Anonymized 49428E4C-BA4E-4BAA-B6BA-529CFE4F1D15', 'ent3', 'ent4')))"
   ]
  },
  {
   "cell_type": "code",
   "execution_count": 15,
   "metadata": {},
   "outputs": [
    {
     "data": {
      "text/html": [
       "<div>\n",
       "<style scoped>\n",
       "    .dataframe tbody tr th:only-of-type {\n",
       "        vertical-align: middle;\n",
       "    }\n",
       "\n",
       "    .dataframe tbody tr th {\n",
       "        vertical-align: top;\n",
       "    }\n",
       "\n",
       "    .dataframe thead th {\n",
       "        text-align: right;\n",
       "    }\n",
       "</style>\n",
       "<table border=\"1\" class=\"dataframe\">\n",
       "  <thead>\n",
       "    <tr style=\"text-align: right;\">\n",
       "      <th></th>\n",
       "      <th>NumberPages</th>\n",
       "      <th>RequestedHumanRevision</th>\n",
       "      <th>QualityControl</th>\n",
       "      <th>EntityName</th>\n",
       "      <th>pf_human</th>\n",
       "      <th>efv</th>\n",
       "      <th>pfd_topdown</th>\n",
       "      <th>pfd_poised</th>\n",
       "      <th>sfv_human</th>\n",
       "      <th>sfv_ML</th>\n",
       "      <th>Breach</th>\n",
       "      <th>HasMultipleDocumentClass</th>\n",
       "    </tr>\n",
       "  </thead>\n",
       "  <tbody>\n",
       "    <tr>\n",
       "      <th>0</th>\n",
       "      <td>2</td>\n",
       "      <td>1</td>\n",
       "      <td>0</td>\n",
       "      <td>ent1</td>\n",
       "      <td>2</td>\n",
       "      <td>6</td>\n",
       "      <td>0</td>\n",
       "      <td>4</td>\n",
       "      <td>0</td>\n",
       "      <td>6</td>\n",
       "      <td>No</td>\n",
       "      <td>2</td>\n",
       "    </tr>\n",
       "    <tr>\n",
       "      <th>1</th>\n",
       "      <td>2</td>\n",
       "      <td>1</td>\n",
       "      <td>0</td>\n",
       "      <td>ent1</td>\n",
       "      <td>2</td>\n",
       "      <td>6</td>\n",
       "      <td>0</td>\n",
       "      <td>4</td>\n",
       "      <td>0</td>\n",
       "      <td>6</td>\n",
       "      <td>No</td>\n",
       "      <td>2</td>\n",
       "    </tr>\n",
       "    <tr>\n",
       "      <th>2</th>\n",
       "      <td>2</td>\n",
       "      <td>1</td>\n",
       "      <td>0</td>\n",
       "      <td>ent1</td>\n",
       "      <td>2</td>\n",
       "      <td>6</td>\n",
       "      <td>0</td>\n",
       "      <td>4</td>\n",
       "      <td>0</td>\n",
       "      <td>6</td>\n",
       "      <td>No</td>\n",
       "      <td>2</td>\n",
       "    </tr>\n",
       "    <tr>\n",
       "      <th>3</th>\n",
       "      <td>2</td>\n",
       "      <td>1</td>\n",
       "      <td>0</td>\n",
       "      <td>ent1</td>\n",
       "      <td>2</td>\n",
       "      <td>6</td>\n",
       "      <td>0</td>\n",
       "      <td>4</td>\n",
       "      <td>1</td>\n",
       "      <td>5</td>\n",
       "      <td>No</td>\n",
       "      <td>2</td>\n",
       "    </tr>\n",
       "    <tr>\n",
       "      <th>4</th>\n",
       "      <td>1</td>\n",
       "      <td>1</td>\n",
       "      <td>0</td>\n",
       "      <td>ent1</td>\n",
       "      <td>1</td>\n",
       "      <td>6</td>\n",
       "      <td>0</td>\n",
       "      <td>2</td>\n",
       "      <td>0</td>\n",
       "      <td>6</td>\n",
       "      <td>No</td>\n",
       "      <td>2</td>\n",
       "    </tr>\n",
       "  </tbody>\n",
       "</table>\n",
       "</div>"
      ],
      "text/plain": [
       "   NumberPages  RequestedHumanRevision  QualityControl EntityName  pf_human  \\\n",
       "0            2                       1               0       ent1         2   \n",
       "1            2                       1               0       ent1         2   \n",
       "2            2                       1               0       ent1         2   \n",
       "3            2                       1               0       ent1         2   \n",
       "4            1                       1               0       ent1         1   \n",
       "\n",
       "   efv  pfd_topdown  pfd_poised  sfv_human  sfv_ML Breach  \\\n",
       "0    6            0           4          0       6     No   \n",
       "1    6            0           4          0       6     No   \n",
       "2    6            0           4          0       6     No   \n",
       "3    6            0           4          1       5     No   \n",
       "4    6            0           2          0       6     No   \n",
       "\n",
       "   HasMultipleDocumentClass  \n",
       "0                         2  \n",
       "1                         2  \n",
       "2                         2  \n",
       "3                         2  \n",
       "4                         2  "
      ]
     },
     "execution_count": 15,
     "metadata": {},
     "output_type": "execute_result"
    }
   ],
   "source": [
    "# Remove the unwanted columns from the dataframe\n",
    "df = df.drop(['Id', 'DocumentId', 'DocumentMonitorId', 'FinishedAt', 'SlaMoment', 'time_diff', 'SugestedDocumentClass','breach',\n",
    "              'doc1', 'doc2', 'isdoc1', 'isdoc2', 'CustomerName', 'DocumentMonitorId.1'], 1)\n",
    "df.head()"
   ]
  },
  {
   "cell_type": "code",
   "execution_count": 16,
   "metadata": {},
   "outputs": [
    {
     "data": {
      "text/plain": [
       "NumberPages                 False\n",
       "RequestedHumanRevision      False\n",
       "QualityControl              False\n",
       "EntityName                  False\n",
       "pf_human                    False\n",
       "efv                         False\n",
       "pfd_topdown                 False\n",
       "pfd_poised                  False\n",
       "sfv_human                   False\n",
       "sfv_ML                      False\n",
       "Breach                      False\n",
       "HasMultipleDocumentClass    False\n",
       "dtype: bool"
      ]
     },
     "execution_count": 16,
     "metadata": {},
     "output_type": "execute_result"
    }
   ],
   "source": [
    "# Check null values \n",
    "df.isnull().any()"
   ]
  },
  {
   "cell_type": "markdown",
   "metadata": {},
   "source": [
    "### Data Preprocessing"
   ]
  },
  {
   "cell_type": "code",
   "execution_count": 17,
   "metadata": {
    "scrolled": true
   },
   "outputs": [
    {
     "data": {
      "text/html": [
       "<div>\n",
       "<style scoped>\n",
       "    .dataframe tbody tr th:only-of-type {\n",
       "        vertical-align: middle;\n",
       "    }\n",
       "\n",
       "    .dataframe tbody tr th {\n",
       "        vertical-align: top;\n",
       "    }\n",
       "\n",
       "    .dataframe thead th {\n",
       "        text-align: right;\n",
       "    }\n",
       "</style>\n",
       "<table border=\"1\" class=\"dataframe\">\n",
       "  <thead>\n",
       "    <tr style=\"text-align: right;\">\n",
       "      <th></th>\n",
       "      <th>NumberPages</th>\n",
       "      <th>RequestedHumanRevision</th>\n",
       "      <th>QualityControl</th>\n",
       "      <th>pf_human</th>\n",
       "      <th>efv</th>\n",
       "      <th>pfd_topdown</th>\n",
       "      <th>pfd_poised</th>\n",
       "      <th>sfv_human</th>\n",
       "      <th>sfv_ML</th>\n",
       "      <th>HasMultipleDocumentClass</th>\n",
       "      <th>EntityName_ent2</th>\n",
       "      <th>EntityName_ent3</th>\n",
       "      <th>EntityName_ent4</th>\n",
       "      <th>Breach_Yes</th>\n",
       "    </tr>\n",
       "  </thead>\n",
       "  <tbody>\n",
       "    <tr>\n",
       "      <th>0</th>\n",
       "      <td>2</td>\n",
       "      <td>1</td>\n",
       "      <td>0</td>\n",
       "      <td>2</td>\n",
       "      <td>6</td>\n",
       "      <td>0</td>\n",
       "      <td>4</td>\n",
       "      <td>0</td>\n",
       "      <td>6</td>\n",
       "      <td>2</td>\n",
       "      <td>0</td>\n",
       "      <td>0</td>\n",
       "      <td>0</td>\n",
       "      <td>0</td>\n",
       "    </tr>\n",
       "    <tr>\n",
       "      <th>1</th>\n",
       "      <td>2</td>\n",
       "      <td>1</td>\n",
       "      <td>0</td>\n",
       "      <td>2</td>\n",
       "      <td>6</td>\n",
       "      <td>0</td>\n",
       "      <td>4</td>\n",
       "      <td>0</td>\n",
       "      <td>6</td>\n",
       "      <td>2</td>\n",
       "      <td>0</td>\n",
       "      <td>0</td>\n",
       "      <td>0</td>\n",
       "      <td>0</td>\n",
       "    </tr>\n",
       "    <tr>\n",
       "      <th>2</th>\n",
       "      <td>2</td>\n",
       "      <td>1</td>\n",
       "      <td>0</td>\n",
       "      <td>2</td>\n",
       "      <td>6</td>\n",
       "      <td>0</td>\n",
       "      <td>4</td>\n",
       "      <td>0</td>\n",
       "      <td>6</td>\n",
       "      <td>2</td>\n",
       "      <td>0</td>\n",
       "      <td>0</td>\n",
       "      <td>0</td>\n",
       "      <td>0</td>\n",
       "    </tr>\n",
       "    <tr>\n",
       "      <th>3</th>\n",
       "      <td>2</td>\n",
       "      <td>1</td>\n",
       "      <td>0</td>\n",
       "      <td>2</td>\n",
       "      <td>6</td>\n",
       "      <td>0</td>\n",
       "      <td>4</td>\n",
       "      <td>1</td>\n",
       "      <td>5</td>\n",
       "      <td>2</td>\n",
       "      <td>0</td>\n",
       "      <td>0</td>\n",
       "      <td>0</td>\n",
       "      <td>0</td>\n",
       "    </tr>\n",
       "    <tr>\n",
       "      <th>4</th>\n",
       "      <td>1</td>\n",
       "      <td>1</td>\n",
       "      <td>0</td>\n",
       "      <td>1</td>\n",
       "      <td>6</td>\n",
       "      <td>0</td>\n",
       "      <td>2</td>\n",
       "      <td>0</td>\n",
       "      <td>6</td>\n",
       "      <td>2</td>\n",
       "      <td>0</td>\n",
       "      <td>0</td>\n",
       "      <td>0</td>\n",
       "      <td>0</td>\n",
       "    </tr>\n",
       "  </tbody>\n",
       "</table>\n",
       "</div>"
      ],
      "text/plain": [
       "   NumberPages  RequestedHumanRevision  QualityControl  pf_human  efv  \\\n",
       "0            2                       1               0         2    6   \n",
       "1            2                       1               0         2    6   \n",
       "2            2                       1               0         2    6   \n",
       "3            2                       1               0         2    6   \n",
       "4            1                       1               0         1    6   \n",
       "\n",
       "   pfd_topdown  pfd_poised  sfv_human  sfv_ML  HasMultipleDocumentClass  \\\n",
       "0            0           4          0       6                         2   \n",
       "1            0           4          0       6                         2   \n",
       "2            0           4          0       6                         2   \n",
       "3            0           4          1       5                         2   \n",
       "4            0           2          0       6                         2   \n",
       "\n",
       "   EntityName_ent2  EntityName_ent3  EntityName_ent4  Breach_Yes  \n",
       "0                0                0                0           0  \n",
       "1                0                0                0           0  \n",
       "2                0                0                0           0  \n",
       "3                0                0                0           0  \n",
       "4                0                0                0           0  "
      ]
     },
     "execution_count": 17,
     "metadata": {},
     "output_type": "execute_result"
    }
   ],
   "source": [
    "# Perform one hot encoding to convert the categorical varaibles to binary format\n",
    "model_df = pd.get_dummies(df,drop_first=True,dummy_na=False)\n",
    "model_df.head()"
   ]
  },
  {
   "cell_type": "code",
   "execution_count": 18,
   "metadata": {},
   "outputs": [
    {
     "data": {
      "text/html": [
       "<div>\n",
       "<style scoped>\n",
       "    .dataframe tbody tr th:only-of-type {\n",
       "        vertical-align: middle;\n",
       "    }\n",
       "\n",
       "    .dataframe tbody tr th {\n",
       "        vertical-align: top;\n",
       "    }\n",
       "\n",
       "    .dataframe thead th {\n",
       "        text-align: right;\n",
       "    }\n",
       "</style>\n",
       "<table border=\"1\" class=\"dataframe\">\n",
       "  <thead>\n",
       "    <tr style=\"text-align: right;\">\n",
       "      <th></th>\n",
       "      <th>NumberPages</th>\n",
       "      <th>RequestedHumanRevision</th>\n",
       "      <th>QualityControl</th>\n",
       "      <th>pf_human</th>\n",
       "      <th>efv</th>\n",
       "      <th>pfd_topdown</th>\n",
       "      <th>pfd_poised</th>\n",
       "      <th>sfv_human</th>\n",
       "      <th>sfv_ML</th>\n",
       "      <th>HasMultipleDocumentClass</th>\n",
       "      <th>EntityName_ent2</th>\n",
       "      <th>EntityName_ent3</th>\n",
       "      <th>EntityName_ent4</th>\n",
       "      <th>Breach_Yes</th>\n",
       "    </tr>\n",
       "  </thead>\n",
       "  <tbody>\n",
       "    <tr>\n",
       "      <th>NumberPages</th>\n",
       "      <td>1.000000</td>\n",
       "      <td>0.041787</td>\n",
       "      <td>-0.041787</td>\n",
       "      <td>1.000000</td>\n",
       "      <td>0.584055</td>\n",
       "      <td>0.378552</td>\n",
       "      <td>0.391610</td>\n",
       "      <td>0.461286</td>\n",
       "      <td>0.392114</td>\n",
       "      <td>0.117683</td>\n",
       "      <td>-0.058451</td>\n",
       "      <td>-0.040820</td>\n",
       "      <td>-0.047147</td>\n",
       "      <td>0.018687</td>\n",
       "    </tr>\n",
       "    <tr>\n",
       "      <th>RequestedHumanRevision</th>\n",
       "      <td>0.041787</td>\n",
       "      <td>1.000000</td>\n",
       "      <td>-1.000000</td>\n",
       "      <td>0.041787</td>\n",
       "      <td>0.022896</td>\n",
       "      <td>-0.039800</td>\n",
       "      <td>0.221098</td>\n",
       "      <td>-0.001687</td>\n",
       "      <td>0.058666</td>\n",
       "      <td>0.276657</td>\n",
       "      <td>0.154783</td>\n",
       "      <td>-0.992225</td>\n",
       "      <td>0.092463</td>\n",
       "      <td>-0.046008</td>\n",
       "    </tr>\n",
       "    <tr>\n",
       "      <th>QualityControl</th>\n",
       "      <td>-0.041787</td>\n",
       "      <td>-1.000000</td>\n",
       "      <td>1.000000</td>\n",
       "      <td>-0.041787</td>\n",
       "      <td>-0.022896</td>\n",
       "      <td>0.039800</td>\n",
       "      <td>-0.221098</td>\n",
       "      <td>0.001687</td>\n",
       "      <td>-0.058666</td>\n",
       "      <td>-0.276657</td>\n",
       "      <td>-0.154783</td>\n",
       "      <td>0.992225</td>\n",
       "      <td>-0.092463</td>\n",
       "      <td>0.046008</td>\n",
       "    </tr>\n",
       "    <tr>\n",
       "      <th>pf_human</th>\n",
       "      <td>1.000000</td>\n",
       "      <td>0.041787</td>\n",
       "      <td>-0.041787</td>\n",
       "      <td>1.000000</td>\n",
       "      <td>0.584055</td>\n",
       "      <td>0.378552</td>\n",
       "      <td>0.391610</td>\n",
       "      <td>0.461286</td>\n",
       "      <td>0.392114</td>\n",
       "      <td>0.117683</td>\n",
       "      <td>-0.058451</td>\n",
       "      <td>-0.040820</td>\n",
       "      <td>-0.047147</td>\n",
       "      <td>0.018687</td>\n",
       "    </tr>\n",
       "    <tr>\n",
       "      <th>efv</th>\n",
       "      <td>0.584055</td>\n",
       "      <td>0.022896</td>\n",
       "      <td>-0.022896</td>\n",
       "      <td>0.584055</td>\n",
       "      <td>1.000000</td>\n",
       "      <td>0.244241</td>\n",
       "      <td>0.200392</td>\n",
       "      <td>0.917147</td>\n",
       "      <td>0.281393</td>\n",
       "      <td>0.065829</td>\n",
       "      <td>-0.050058</td>\n",
       "      <td>-0.022112</td>\n",
       "      <td>0.004220</td>\n",
       "      <td>0.037166</td>\n",
       "    </tr>\n",
       "    <tr>\n",
       "      <th>pfd_topdown</th>\n",
       "      <td>0.378552</td>\n",
       "      <td>-0.039800</td>\n",
       "      <td>0.039800</td>\n",
       "      <td>0.378552</td>\n",
       "      <td>0.244241</td>\n",
       "      <td>1.000000</td>\n",
       "      <td>0.027162</td>\n",
       "      <td>0.250327</td>\n",
       "      <td>0.033860</td>\n",
       "      <td>-0.208771</td>\n",
       "      <td>0.108970</td>\n",
       "      <td>0.040766</td>\n",
       "      <td>0.141356</td>\n",
       "      <td>0.181012</td>\n",
       "    </tr>\n",
       "    <tr>\n",
       "      <th>pfd_poised</th>\n",
       "      <td>0.391610</td>\n",
       "      <td>0.221098</td>\n",
       "      <td>-0.221098</td>\n",
       "      <td>0.391610</td>\n",
       "      <td>0.200392</td>\n",
       "      <td>0.027162</td>\n",
       "      <td>1.000000</td>\n",
       "      <td>-0.033919</td>\n",
       "      <td>0.743049</td>\n",
       "      <td>0.625620</td>\n",
       "      <td>-0.278405</td>\n",
       "      <td>-0.219380</td>\n",
       "      <td>-0.303835</td>\n",
       "      <td>-0.027863</td>\n",
       "    </tr>\n",
       "    <tr>\n",
       "      <th>sfv_human</th>\n",
       "      <td>0.461286</td>\n",
       "      <td>-0.001687</td>\n",
       "      <td>0.001687</td>\n",
       "      <td>0.461286</td>\n",
       "      <td>0.917147</td>\n",
       "      <td>0.250327</td>\n",
       "      <td>-0.033919</td>\n",
       "      <td>1.000000</td>\n",
       "      <td>-0.034840</td>\n",
       "      <td>-0.055151</td>\n",
       "      <td>-0.015502</td>\n",
       "      <td>0.001883</td>\n",
       "      <td>0.089709</td>\n",
       "      <td>0.030814</td>\n",
       "    </tr>\n",
       "    <tr>\n",
       "      <th>sfv_ML</th>\n",
       "      <td>0.392114</td>\n",
       "      <td>0.058666</td>\n",
       "      <td>-0.058666</td>\n",
       "      <td>0.392114</td>\n",
       "      <td>0.281393</td>\n",
       "      <td>0.033860</td>\n",
       "      <td>0.743049</td>\n",
       "      <td>-0.034840</td>\n",
       "      <td>1.000000</td>\n",
       "      <td>0.387923</td>\n",
       "      <td>-0.134511</td>\n",
       "      <td>-0.057312</td>\n",
       "      <td>-0.218288</td>\n",
       "      <td>0.001241</td>\n",
       "    </tr>\n",
       "    <tr>\n",
       "      <th>HasMultipleDocumentClass</th>\n",
       "      <td>0.117683</td>\n",
       "      <td>0.276657</td>\n",
       "      <td>-0.276657</td>\n",
       "      <td>0.117683</td>\n",
       "      <td>0.065829</td>\n",
       "      <td>-0.208771</td>\n",
       "      <td>0.625620</td>\n",
       "      <td>-0.055151</td>\n",
       "      <td>0.387923</td>\n",
       "      <td>1.000000</td>\n",
       "      <td>-0.639231</td>\n",
       "      <td>-0.279848</td>\n",
       "      <td>-0.368541</td>\n",
       "      <td>-0.229895</td>\n",
       "    </tr>\n",
       "    <tr>\n",
       "      <th>EntityName_ent2</th>\n",
       "      <td>-0.058451</td>\n",
       "      <td>0.154783</td>\n",
       "      <td>-0.154783</td>\n",
       "      <td>-0.058451</td>\n",
       "      <td>-0.050058</td>\n",
       "      <td>0.108970</td>\n",
       "      <td>-0.278405</td>\n",
       "      <td>-0.015502</td>\n",
       "      <td>-0.134511</td>\n",
       "      <td>-0.639231</td>\n",
       "      <td>1.000000</td>\n",
       "      <td>-0.153579</td>\n",
       "      <td>-0.227178</td>\n",
       "      <td>0.304950</td>\n",
       "    </tr>\n",
       "    <tr>\n",
       "      <th>EntityName_ent3</th>\n",
       "      <td>-0.040820</td>\n",
       "      <td>-0.992225</td>\n",
       "      <td>0.992225</td>\n",
       "      <td>-0.040820</td>\n",
       "      <td>-0.022112</td>\n",
       "      <td>0.040766</td>\n",
       "      <td>-0.219380</td>\n",
       "      <td>0.001883</td>\n",
       "      <td>-0.057312</td>\n",
       "      <td>-0.279848</td>\n",
       "      <td>-0.153579</td>\n",
       "      <td>1.000000</td>\n",
       "      <td>-0.103025</td>\n",
       "      <td>0.047659</td>\n",
       "    </tr>\n",
       "    <tr>\n",
       "      <th>EntityName_ent4</th>\n",
       "      <td>-0.047147</td>\n",
       "      <td>0.092463</td>\n",
       "      <td>-0.092463</td>\n",
       "      <td>-0.047147</td>\n",
       "      <td>0.004220</td>\n",
       "      <td>0.141356</td>\n",
       "      <td>-0.303835</td>\n",
       "      <td>0.089709</td>\n",
       "      <td>-0.218288</td>\n",
       "      <td>-0.368541</td>\n",
       "      <td>-0.227178</td>\n",
       "      <td>-0.103025</td>\n",
       "      <td>1.000000</td>\n",
       "      <td>-0.038359</td>\n",
       "    </tr>\n",
       "    <tr>\n",
       "      <th>Breach_Yes</th>\n",
       "      <td>0.018687</td>\n",
       "      <td>-0.046008</td>\n",
       "      <td>0.046008</td>\n",
       "      <td>0.018687</td>\n",
       "      <td>0.037166</td>\n",
       "      <td>0.181012</td>\n",
       "      <td>-0.027863</td>\n",
       "      <td>0.030814</td>\n",
       "      <td>0.001241</td>\n",
       "      <td>-0.229895</td>\n",
       "      <td>0.304950</td>\n",
       "      <td>0.047659</td>\n",
       "      <td>-0.038359</td>\n",
       "      <td>1.000000</td>\n",
       "    </tr>\n",
       "  </tbody>\n",
       "</table>\n",
       "</div>"
      ],
      "text/plain": [
       "                          NumberPages  RequestedHumanRevision  QualityControl  \\\n",
       "NumberPages                  1.000000                0.041787       -0.041787   \n",
       "RequestedHumanRevision       0.041787                1.000000       -1.000000   \n",
       "QualityControl              -0.041787               -1.000000        1.000000   \n",
       "pf_human                     1.000000                0.041787       -0.041787   \n",
       "efv                          0.584055                0.022896       -0.022896   \n",
       "pfd_topdown                  0.378552               -0.039800        0.039800   \n",
       "pfd_poised                   0.391610                0.221098       -0.221098   \n",
       "sfv_human                    0.461286               -0.001687        0.001687   \n",
       "sfv_ML                       0.392114                0.058666       -0.058666   \n",
       "HasMultipleDocumentClass     0.117683                0.276657       -0.276657   \n",
       "EntityName_ent2             -0.058451                0.154783       -0.154783   \n",
       "EntityName_ent3             -0.040820               -0.992225        0.992225   \n",
       "EntityName_ent4             -0.047147                0.092463       -0.092463   \n",
       "Breach_Yes                   0.018687               -0.046008        0.046008   \n",
       "\n",
       "                          pf_human       efv  pfd_topdown  pfd_poised  \\\n",
       "NumberPages               1.000000  0.584055     0.378552    0.391610   \n",
       "RequestedHumanRevision    0.041787  0.022896    -0.039800    0.221098   \n",
       "QualityControl           -0.041787 -0.022896     0.039800   -0.221098   \n",
       "pf_human                  1.000000  0.584055     0.378552    0.391610   \n",
       "efv                       0.584055  1.000000     0.244241    0.200392   \n",
       "pfd_topdown               0.378552  0.244241     1.000000    0.027162   \n",
       "pfd_poised                0.391610  0.200392     0.027162    1.000000   \n",
       "sfv_human                 0.461286  0.917147     0.250327   -0.033919   \n",
       "sfv_ML                    0.392114  0.281393     0.033860    0.743049   \n",
       "HasMultipleDocumentClass  0.117683  0.065829    -0.208771    0.625620   \n",
       "EntityName_ent2          -0.058451 -0.050058     0.108970   -0.278405   \n",
       "EntityName_ent3          -0.040820 -0.022112     0.040766   -0.219380   \n",
       "EntityName_ent4          -0.047147  0.004220     0.141356   -0.303835   \n",
       "Breach_Yes                0.018687  0.037166     0.181012   -0.027863   \n",
       "\n",
       "                          sfv_human    sfv_ML  HasMultipleDocumentClass  \\\n",
       "NumberPages                0.461286  0.392114                  0.117683   \n",
       "RequestedHumanRevision    -0.001687  0.058666                  0.276657   \n",
       "QualityControl             0.001687 -0.058666                 -0.276657   \n",
       "pf_human                   0.461286  0.392114                  0.117683   \n",
       "efv                        0.917147  0.281393                  0.065829   \n",
       "pfd_topdown                0.250327  0.033860                 -0.208771   \n",
       "pfd_poised                -0.033919  0.743049                  0.625620   \n",
       "sfv_human                  1.000000 -0.034840                 -0.055151   \n",
       "sfv_ML                    -0.034840  1.000000                  0.387923   \n",
       "HasMultipleDocumentClass  -0.055151  0.387923                  1.000000   \n",
       "EntityName_ent2           -0.015502 -0.134511                 -0.639231   \n",
       "EntityName_ent3            0.001883 -0.057312                 -0.279848   \n",
       "EntityName_ent4            0.089709 -0.218288                 -0.368541   \n",
       "Breach_Yes                 0.030814  0.001241                 -0.229895   \n",
       "\n",
       "                          EntityName_ent2  EntityName_ent3  EntityName_ent4  \\\n",
       "NumberPages                     -0.058451        -0.040820        -0.047147   \n",
       "RequestedHumanRevision           0.154783        -0.992225         0.092463   \n",
       "QualityControl                  -0.154783         0.992225        -0.092463   \n",
       "pf_human                        -0.058451        -0.040820        -0.047147   \n",
       "efv                             -0.050058        -0.022112         0.004220   \n",
       "pfd_topdown                      0.108970         0.040766         0.141356   \n",
       "pfd_poised                      -0.278405        -0.219380        -0.303835   \n",
       "sfv_human                       -0.015502         0.001883         0.089709   \n",
       "sfv_ML                          -0.134511        -0.057312        -0.218288   \n",
       "HasMultipleDocumentClass        -0.639231        -0.279848        -0.368541   \n",
       "EntityName_ent2                  1.000000        -0.153579        -0.227178   \n",
       "EntityName_ent3                 -0.153579         1.000000        -0.103025   \n",
       "EntityName_ent4                 -0.227178        -0.103025         1.000000   \n",
       "Breach_Yes                       0.304950         0.047659        -0.038359   \n",
       "\n",
       "                          Breach_Yes  \n",
       "NumberPages                 0.018687  \n",
       "RequestedHumanRevision     -0.046008  \n",
       "QualityControl              0.046008  \n",
       "pf_human                    0.018687  \n",
       "efv                         0.037166  \n",
       "pfd_topdown                 0.181012  \n",
       "pfd_poised                 -0.027863  \n",
       "sfv_human                   0.030814  \n",
       "sfv_ML                      0.001241  \n",
       "HasMultipleDocumentClass   -0.229895  \n",
       "EntityName_ent2             0.304950  \n",
       "EntityName_ent3             0.047659  \n",
       "EntityName_ent4            -0.038359  \n",
       "Breach_Yes                  1.000000  "
      ]
     },
     "execution_count": 18,
     "metadata": {},
     "output_type": "execute_result"
    }
   ],
   "source": [
    "# Get the correlation coefficients of all the varaibles in the dataframe\n",
    "corrM = model_df.corr()\n",
    "corrM"
   ]
  },
  {
   "cell_type": "code",
   "execution_count": 19,
   "metadata": {},
   "outputs": [
    {
     "data": {
      "text/plain": [
       "<AxesSubplot:>"
      ]
     },
     "execution_count": 19,
     "metadata": {},
     "output_type": "execute_result"
    },
    {
     "data": {
      "image/png": "[encoded data removed]",
      "text/plain": [
       "<Figure size 1440x720 with 2 Axes>"
      ]
     },
     "metadata": {
      "needs_background": "light"
     },
     "output_type": "display_data"
    }
   ],
   "source": [
    "# Correlation Plot\n",
    "import seaborn as sns\n",
    "corr_mat=model_df.corr(method='pearson')\n",
    "plt.figure(figsize=(20,10))\n",
    "sns.heatmap(corr_mat,vmax=1,square=True,annot=True,cmap='coolwarm')"
   ]
  },
  {
   "cell_type": "code",
   "execution_count": 47,
   "metadata": {},
   "outputs": [],
   "source": [
    "# Split the dataset into train and test data.\n",
    "X = model_df.drop(['Breach_Yes'], axis = 1)\n",
    "y = model_df['Breach_Yes']"
   ]
  },
  {
   "cell_type": "code",
   "execution_count": 48,
   "metadata": {},
   "outputs": [],
   "source": [
    "# Split the data into 7:3 ratio(70%-train data and 30%-test data)\n",
    "X_train, X_test, y_train, y_test = train_test_split(X, y, random_state = 42, test_size = 0.3)"
   ]
  },
  {
   "cell_type": "code",
   "execution_count": 49,
   "metadata": {},
   "outputs": [
    {
     "data": {
      "text/html": [
       "<div>\n",
       "<style scoped>\n",
       "    .dataframe tbody tr th:only-of-type {\n",
       "        vertical-align: middle;\n",
       "    }\n",
       "\n",
       "    .dataframe tbody tr th {\n",
       "        vertical-align: top;\n",
       "    }\n",
       "\n",
       "    .dataframe thead th {\n",
       "        text-align: right;\n",
       "    }\n",
       "</style>\n",
       "<table border=\"1\" class=\"dataframe\">\n",
       "  <thead>\n",
       "    <tr style=\"text-align: right;\">\n",
       "      <th></th>\n",
       "      <th>NumberPages</th>\n",
       "      <th>RequestedHumanRevision</th>\n",
       "      <th>QualityControl</th>\n",
       "      <th>pf_human</th>\n",
       "      <th>efv</th>\n",
       "      <th>pfd_topdown</th>\n",
       "      <th>pfd_poised</th>\n",
       "      <th>sfv_human</th>\n",
       "      <th>sfv_ML</th>\n",
       "      <th>HasMultipleDocumentClass</th>\n",
       "      <th>EntityName_ent2</th>\n",
       "      <th>EntityName_ent3</th>\n",
       "      <th>EntityName_ent4</th>\n",
       "    </tr>\n",
       "  </thead>\n",
       "  <tbody>\n",
       "    <tr>\n",
       "      <th>4584</th>\n",
       "      <td>1</td>\n",
       "      <td>1</td>\n",
       "      <td>0</td>\n",
       "      <td>1</td>\n",
       "      <td>5</td>\n",
       "      <td>0</td>\n",
       "      <td>1</td>\n",
       "      <td>1</td>\n",
       "      <td>5</td>\n",
       "      <td>0</td>\n",
       "      <td>1</td>\n",
       "      <td>0</td>\n",
       "      <td>0</td>\n",
       "    </tr>\n",
       "    <tr>\n",
       "      <th>34035</th>\n",
       "      <td>1</td>\n",
       "      <td>1</td>\n",
       "      <td>0</td>\n",
       "      <td>1</td>\n",
       "      <td>4</td>\n",
       "      <td>0</td>\n",
       "      <td>1</td>\n",
       "      <td>2</td>\n",
       "      <td>2</td>\n",
       "      <td>1</td>\n",
       "      <td>0</td>\n",
       "      <td>0</td>\n",
       "      <td>0</td>\n",
       "    </tr>\n",
       "    <tr>\n",
       "      <th>9081</th>\n",
       "      <td>1</td>\n",
       "      <td>1</td>\n",
       "      <td>0</td>\n",
       "      <td>1</td>\n",
       "      <td>5</td>\n",
       "      <td>0</td>\n",
       "      <td>2</td>\n",
       "      <td>1</td>\n",
       "      <td>5</td>\n",
       "      <td>0</td>\n",
       "      <td>1</td>\n",
       "      <td>0</td>\n",
       "      <td>0</td>\n",
       "    </tr>\n",
       "    <tr>\n",
       "      <th>12307</th>\n",
       "      <td>1</td>\n",
       "      <td>1</td>\n",
       "      <td>0</td>\n",
       "      <td>1</td>\n",
       "      <td>4</td>\n",
       "      <td>0</td>\n",
       "      <td>1</td>\n",
       "      <td>3</td>\n",
       "      <td>4</td>\n",
       "      <td>0</td>\n",
       "      <td>0</td>\n",
       "      <td>0</td>\n",
       "      <td>1</td>\n",
       "    </tr>\n",
       "    <tr>\n",
       "      <th>28546</th>\n",
       "      <td>2</td>\n",
       "      <td>1</td>\n",
       "      <td>0</td>\n",
       "      <td>2</td>\n",
       "      <td>6</td>\n",
       "      <td>0</td>\n",
       "      <td>4</td>\n",
       "      <td>0</td>\n",
       "      <td>6</td>\n",
       "      <td>2</td>\n",
       "      <td>0</td>\n",
       "      <td>0</td>\n",
       "      <td>0</td>\n",
       "    </tr>\n",
       "  </tbody>\n",
       "</table>\n",
       "</div>"
      ],
      "text/plain": [
       "       NumberPages  RequestedHumanRevision  QualityControl  pf_human  efv  \\\n",
       "4584             1                       1               0         1    5   \n",
       "34035            1                       1               0         1    4   \n",
       "9081             1                       1               0         1    5   \n",
       "12307            1                       1               0         1    4   \n",
       "28546            2                       1               0         2    6   \n",
       "\n",
       "       pfd_topdown  pfd_poised  sfv_human  sfv_ML  HasMultipleDocumentClass  \\\n",
       "4584             0           1          1       5                         0   \n",
       "34035            0           1          2       2                         1   \n",
       "9081             0           2          1       5                         0   \n",
       "12307            0           1          3       4                         0   \n",
       "28546            0           4          0       6                         2   \n",
       "\n",
       "       EntityName_ent2  EntityName_ent3  EntityName_ent4  \n",
       "4584                 1                0                0  \n",
       "34035                0                0                0  \n",
       "9081                 1                0                0  \n",
       "12307                0                0                1  \n",
       "28546                0                0                0  "
      ]
     },
     "execution_count": 49,
     "metadata": {},
     "output_type": "execute_result"
    }
   ],
   "source": [
    "# Check the training data\n",
    "X_train.head()"
   ]
  },
  {
   "cell_type": "code",
   "execution_count": 23,
   "metadata": {},
   "outputs": [
    {
     "data": {
      "text/html": [
       "<div>\n",
       "<style scoped>\n",
       "    .dataframe tbody tr th:only-of-type {\n",
       "        vertical-align: middle;\n",
       "    }\n",
       "\n",
       "    .dataframe tbody tr th {\n",
       "        vertical-align: top;\n",
       "    }\n",
       "\n",
       "    .dataframe thead th {\n",
       "        text-align: right;\n",
       "    }\n",
       "</style>\n",
       "<table border=\"1\" class=\"dataframe\">\n",
       "  <thead>\n",
       "    <tr style=\"text-align: right;\">\n",
       "      <th></th>\n",
       "      <th>NumberPages</th>\n",
       "      <th>RequestedHumanRevision</th>\n",
       "      <th>QualityControl</th>\n",
       "      <th>pf_human</th>\n",
       "      <th>efv</th>\n",
       "      <th>pfd_topdown</th>\n",
       "      <th>pfd_poised</th>\n",
       "      <th>sfv_human</th>\n",
       "      <th>sfv_ML</th>\n",
       "      <th>HasMultipleDocumentClass</th>\n",
       "      <th>EntityName_ent2</th>\n",
       "      <th>EntityName_ent3</th>\n",
       "      <th>EntityName_ent4</th>\n",
       "    </tr>\n",
       "  </thead>\n",
       "  <tbody>\n",
       "    <tr>\n",
       "      <th>28879</th>\n",
       "      <td>1</td>\n",
       "      <td>1</td>\n",
       "      <td>0</td>\n",
       "      <td>1</td>\n",
       "      <td>6</td>\n",
       "      <td>0</td>\n",
       "      <td>2</td>\n",
       "      <td>0</td>\n",
       "      <td>6</td>\n",
       "      <td>2</td>\n",
       "      <td>0</td>\n",
       "      <td>0</td>\n",
       "      <td>0</td>\n",
       "    </tr>\n",
       "    <tr>\n",
       "      <th>30692</th>\n",
       "      <td>2</td>\n",
       "      <td>1</td>\n",
       "      <td>0</td>\n",
       "      <td>2</td>\n",
       "      <td>6</td>\n",
       "      <td>0</td>\n",
       "      <td>4</td>\n",
       "      <td>0</td>\n",
       "      <td>6</td>\n",
       "      <td>2</td>\n",
       "      <td>0</td>\n",
       "      <td>0</td>\n",
       "      <td>0</td>\n",
       "    </tr>\n",
       "    <tr>\n",
       "      <th>6915</th>\n",
       "      <td>2</td>\n",
       "      <td>1</td>\n",
       "      <td>0</td>\n",
       "      <td>2</td>\n",
       "      <td>6</td>\n",
       "      <td>0</td>\n",
       "      <td>4</td>\n",
       "      <td>1</td>\n",
       "      <td>5</td>\n",
       "      <td>2</td>\n",
       "      <td>0</td>\n",
       "      <td>0</td>\n",
       "      <td>0</td>\n",
       "    </tr>\n",
       "    <tr>\n",
       "      <th>4741</th>\n",
       "      <td>1</td>\n",
       "      <td>1</td>\n",
       "      <td>0</td>\n",
       "      <td>1</td>\n",
       "      <td>3</td>\n",
       "      <td>0</td>\n",
       "      <td>2</td>\n",
       "      <td>0</td>\n",
       "      <td>3</td>\n",
       "      <td>0</td>\n",
       "      <td>1</td>\n",
       "      <td>0</td>\n",
       "      <td>0</td>\n",
       "    </tr>\n",
       "    <tr>\n",
       "      <th>18809</th>\n",
       "      <td>1</td>\n",
       "      <td>1</td>\n",
       "      <td>0</td>\n",
       "      <td>1</td>\n",
       "      <td>6</td>\n",
       "      <td>0</td>\n",
       "      <td>2</td>\n",
       "      <td>0</td>\n",
       "      <td>6</td>\n",
       "      <td>2</td>\n",
       "      <td>0</td>\n",
       "      <td>0</td>\n",
       "      <td>0</td>\n",
       "    </tr>\n",
       "  </tbody>\n",
       "</table>\n",
       "</div>"
      ],
      "text/plain": [
       "       NumberPages  RequestedHumanRevision  QualityControl  pf_human  efv  \\\n",
       "28879            1                       1               0         1    6   \n",
       "30692            2                       1               0         2    6   \n",
       "6915             2                       1               0         2    6   \n",
       "4741             1                       1               0         1    3   \n",
       "18809            1                       1               0         1    6   \n",
       "\n",
       "       pfd_topdown  pfd_poised  sfv_human  sfv_ML  HasMultipleDocumentClass  \\\n",
       "28879            0           2          0       6                         2   \n",
       "30692            0           4          0       6                         2   \n",
       "6915             0           4          1       5                         2   \n",
       "4741             0           2          0       3                         0   \n",
       "18809            0           2          0       6                         2   \n",
       "\n",
       "       EntityName_ent2  EntityName_ent3  EntityName_ent4  \n",
       "28879                0                0                0  \n",
       "30692                0                0                0  \n",
       "6915                 0                0                0  \n",
       "4741                 1                0                0  \n",
       "18809                0                0                0  "
      ]
     },
     "execution_count": 23,
     "metadata": {},
     "output_type": "execute_result"
    }
   ],
   "source": [
    "# Check the test data\n",
    "X_test.head()"
   ]
  },
  {
   "cell_type": "markdown",
   "metadata": {},
   "source": [
    "### Dimensionality Reduction Using PCA"
   ]
  },
  {
   "cell_type": "code",
   "execution_count": 50,
   "metadata": {},
   "outputs": [],
   "source": [
    "# Feature scaling\n",
    "from sklearn.preprocessing import StandardScaler\n",
    "stndS = StandardScaler()\n",
    "X_train = stndS.fit_transform(X_train)\n",
    "X_test = stndS.transform(X_test)"
   ]
  },
  {
   "cell_type": "code",
   "execution_count": 51,
   "metadata": {},
   "outputs": [
    {
     "data": {
      "image/png": "[encoded data removed]",
      "text/plain": [
       "<Figure size 432x288 with 1 Axes>"
      ]
     },
     "metadata": {},
     "output_type": "display_data"
    },
    {
     "data": {
      "text/plain": [
       "None"
      ]
     },
     "metadata": {},
     "output_type": "display_data"
    },
    {
     "data": {
      "text/html": [
       "<div>\n",
       "<style scoped>\n",
       "    .dataframe tbody tr th:only-of-type {\n",
       "        vertical-align: middle;\n",
       "    }\n",
       "\n",
       "    .dataframe tbody tr th {\n",
       "        vertical-align: top;\n",
       "    }\n",
       "\n",
       "    .dataframe thead th {\n",
       "        text-align: right;\n",
       "    }\n",
       "</style>\n",
       "<table border=\"1\" class=\"dataframe\">\n",
       "  <thead>\n",
       "    <tr style=\"text-align: right;\">\n",
       "      <th></th>\n",
       "      <th>Cumulative Variance Ratio</th>\n",
       "      <th>Explained Variance Ratio</th>\n",
       "    </tr>\n",
       "  </thead>\n",
       "  <tbody>\n",
       "    <tr>\n",
       "      <th>0</th>\n",
       "      <td>0.289773</td>\n",
       "      <td>0.289773</td>\n",
       "    </tr>\n",
       "    <tr>\n",
       "      <th>1</th>\n",
       "      <td>0.527412</td>\n",
       "      <td>0.237639</td>\n",
       "    </tr>\n",
       "    <tr>\n",
       "      <th>2</th>\n",
       "      <td>0.702210</td>\n",
       "      <td>0.174798</td>\n",
       "    </tr>\n",
       "    <tr>\n",
       "      <th>3</th>\n",
       "      <td>0.803934</td>\n",
       "      <td>0.101724</td>\n",
       "    </tr>\n",
       "    <tr>\n",
       "      <th>4</th>\n",
       "      <td>0.884287</td>\n",
       "      <td>0.080353</td>\n",
       "    </tr>\n",
       "  </tbody>\n",
       "</table>\n",
       "</div>"
      ],
      "text/plain": [
       "   Cumulative Variance Ratio  Explained Variance Ratio\n",
       "0                   0.289773                  0.289773\n",
       "1                   0.527412                  0.237639\n",
       "2                   0.702210                  0.174798\n",
       "3                   0.803934                  0.101724\n",
       "4                   0.884287                  0.080353"
      ]
     },
     "metadata": {},
     "output_type": "display_data"
    }
   ],
   "source": [
    "# Set the number of components (features) that we want to consider.\n",
    "pca_test = PCA(n_components=5)\n",
    "pca_test.fit(X_train)\n",
    "\n",
    "sns.set(style='whitegrid')\n",
    "plt.plot(np.cumsum(pca_test.explained_variance_ratio_))\n",
    "plt.xlabel('number of components')\n",
    "plt.ylabel('cumulative explained variance')\n",
    "plt.axvline(linewidth=4, color='r', linestyle = '--', x=10, ymin=0, ymax=1)\n",
    "display(plt.show())\n",
    "\n",
    "evr = pca_test.explained_variance_ratio_\n",
    "cvr = np.cumsum(pca_test.explained_variance_ratio_)\n",
    "\n",
    "pca_df = pd.DataFrame()\n",
    "pca_df['Cumulative Variance Ratio'] = cvr\n",
    "pca_df['Explained Variance Ratio'] = evr\n",
    "display(pca_df.head(10))"
   ]
  },
  {
   "cell_type": "code",
   "execution_count": 52,
   "metadata": {},
   "outputs": [],
   "source": [
    "# Assign these recreated “reduced dimension\" datasets to “X_train_scaled” and “X_test_scaled”\n",
    "pca = PCA(n_components = 5)# extracted features we want to end up within our new dataset(2).\n",
    "# Apply the above object to our training dataset using the fit method.\n",
    "X_train_scaled = pca.fit_transform(X_train)\n",
    "# Apply the PCA object to the test set only to transform this set\n",
    "X_test_scaled = pca.transform(X_test)"
   ]
  },
  {
   "cell_type": "code",
   "execution_count": 27,
   "metadata": {
    "scrolled": true
   },
   "outputs": [
    {
     "data": {
      "text/html": [
       "<div>\n",
       "<style scoped>\n",
       "    .dataframe tbody tr th:only-of-type {\n",
       "        vertical-align: middle;\n",
       "    }\n",
       "\n",
       "    .dataframe tbody tr th {\n",
       "        vertical-align: top;\n",
       "    }\n",
       "\n",
       "    .dataframe thead th {\n",
       "        text-align: right;\n",
       "    }\n",
       "</style>\n",
       "<table border=\"1\" class=\"dataframe\">\n",
       "  <thead>\n",
       "    <tr style=\"text-align: right;\">\n",
       "      <th></th>\n",
       "      <th>PCA Component 0</th>\n",
       "      <th>PCA Component 1</th>\n",
       "      <th>PCA Component 2</th>\n",
       "      <th>PCA Component 3</th>\n",
       "      <th>PCA Component 4</th>\n",
       "    </tr>\n",
       "  </thead>\n",
       "  <tbody>\n",
       "    <tr>\n",
       "      <th>NumberPages</th>\n",
       "      <td>0.409822</td>\n",
       "      <td>0.246589</td>\n",
       "      <td>0.084296</td>\n",
       "      <td>-0.093816</td>\n",
       "      <td>-0.177482</td>\n",
       "    </tr>\n",
       "    <tr>\n",
       "      <th>RequestedHumanRevision</th>\n",
       "      <td>0.237620</td>\n",
       "      <td>-0.475258</td>\n",
       "      <td>0.194294</td>\n",
       "      <td>0.014249</td>\n",
       "      <td>0.005114</td>\n",
       "    </tr>\n",
       "    <tr>\n",
       "      <th>QualityControl</th>\n",
       "      <td>-0.237620</td>\n",
       "      <td>0.475258</td>\n",
       "      <td>-0.194294</td>\n",
       "      <td>-0.014249</td>\n",
       "      <td>-0.005114</td>\n",
       "    </tr>\n",
       "    <tr>\n",
       "      <th>pf_human</th>\n",
       "      <td>0.409822</td>\n",
       "      <td>0.246589</td>\n",
       "      <td>0.084296</td>\n",
       "      <td>-0.093816</td>\n",
       "      <td>-0.177482</td>\n",
       "    </tr>\n",
       "    <tr>\n",
       "      <th>efv</th>\n",
       "      <td>0.345800</td>\n",
       "      <td>0.257617</td>\n",
       "      <td>0.201696</td>\n",
       "      <td>0.147498</td>\n",
       "      <td>0.385671</td>\n",
       "    </tr>\n",
       "    <tr>\n",
       "      <th>pfd_topdown</th>\n",
       "      <td>0.132544</td>\n",
       "      <td>0.186844</td>\n",
       "      <td>0.267317</td>\n",
       "      <td>-0.111090</td>\n",
       "      <td>-0.501343</td>\n",
       "    </tr>\n",
       "    <tr>\n",
       "      <th>pfd_poised</th>\n",
       "      <td>0.355190</td>\n",
       "      <td>-0.054584</td>\n",
       "      <td>-0.372847</td>\n",
       "      <td>-0.128974</td>\n",
       "      <td>-0.131680</td>\n",
       "    </tr>\n",
       "    <tr>\n",
       "      <th>sfv_human</th>\n",
       "      <td>0.251069</td>\n",
       "      <td>0.251509</td>\n",
       "      <td>0.315662</td>\n",
       "      <td>0.247361</td>\n",
       "      <td>0.462663</td>\n",
       "    </tr>\n",
       "    <tr>\n",
       "      <th>sfv_ML</th>\n",
       "      <td>0.309370</td>\n",
       "      <td>0.045999</td>\n",
       "      <td>-0.321158</td>\n",
       "      <td>-0.227231</td>\n",
       "      <td>-0.169548</td>\n",
       "    </tr>\n",
       "    <tr>\n",
       "      <th>HasMultipleDocumentClass</th>\n",
       "      <td>0.249995</td>\n",
       "      <td>-0.166986</td>\n",
       "      <td>-0.447642</td>\n",
       "      <td>0.244623</td>\n",
       "      <td>0.160113</td>\n",
       "    </tr>\n",
       "    <tr>\n",
       "      <th>EntityName_ent2</th>\n",
       "      <td>-0.082005</td>\n",
       "      <td>-0.061503</td>\n",
       "      <td>0.359851</td>\n",
       "      <td>-0.680889</td>\n",
       "      <td>0.137562</td>\n",
       "    </tr>\n",
       "    <tr>\n",
       "      <th>EntityName_ent3</th>\n",
       "      <td>-0.236588</td>\n",
       "      <td>0.474505</td>\n",
       "      <td>-0.194379</td>\n",
       "      <td>-0.020414</td>\n",
       "      <td>-0.001200</td>\n",
       "    </tr>\n",
       "    <tr>\n",
       "      <th>EntityName_ent4</th>\n",
       "      <td>-0.062595</td>\n",
       "      <td>-0.013951</td>\n",
       "      <td>0.297806</td>\n",
       "      <td>0.542745</td>\n",
       "      <td>-0.481827</td>\n",
       "    </tr>\n",
       "  </tbody>\n",
       "</table>\n",
       "</div>"
      ],
      "text/plain": [
       "                          PCA Component 0  PCA Component 1  PCA Component 2  \\\n",
       "NumberPages                      0.409822         0.246589         0.084296   \n",
       "RequestedHumanRevision           0.237620        -0.475258         0.194294   \n",
       "QualityControl                  -0.237620         0.475258        -0.194294   \n",
       "pf_human                         0.409822         0.246589         0.084296   \n",
       "efv                              0.345800         0.257617         0.201696   \n",
       "pfd_topdown                      0.132544         0.186844         0.267317   \n",
       "pfd_poised                       0.355190        -0.054584        -0.372847   \n",
       "sfv_human                        0.251069         0.251509         0.315662   \n",
       "sfv_ML                           0.309370         0.045999        -0.321158   \n",
       "HasMultipleDocumentClass         0.249995        -0.166986        -0.447642   \n",
       "EntityName_ent2                 -0.082005        -0.061503         0.359851   \n",
       "EntityName_ent3                 -0.236588         0.474505        -0.194379   \n",
       "EntityName_ent4                 -0.062595        -0.013951         0.297806   \n",
       "\n",
       "                          PCA Component 3  PCA Component 4  \n",
       "NumberPages                     -0.093816        -0.177482  \n",
       "RequestedHumanRevision           0.014249         0.005114  \n",
       "QualityControl                  -0.014249        -0.005114  \n",
       "pf_human                        -0.093816        -0.177482  \n",
       "efv                              0.147498         0.385671  \n",
       "pfd_topdown                     -0.111090        -0.501343  \n",
       "pfd_poised                      -0.128974        -0.131680  \n",
       "sfv_human                        0.247361         0.462663  \n",
       "sfv_ML                          -0.227231        -0.169548  \n",
       "HasMultipleDocumentClass         0.244623         0.160113  \n",
       "EntityName_ent2                 -0.680889         0.137562  \n",
       "EntityName_ent3                 -0.020414        -0.001200  \n",
       "EntityName_ent4                  0.542745        -0.481827  "
      ]
     },
     "execution_count": 27,
     "metadata": {},
     "output_type": "execute_result"
    }
   ],
   "source": [
    "# Display weights for each PCA component by creating a dataframe.\n",
    "pca_dims = []\n",
    "for x in range(0, len(pca_df)):\n",
    "    pca_dims.append('PCA Component {}'.format(x))\n",
    "pca_test_df = pd.DataFrame(pca_test.components_, columns=X.columns, index=pca_dims)\n",
    "pca_test_df.head(10).T"
   ]
  },
  {
   "cell_type": "code",
   "execution_count": 28,
   "metadata": {},
   "outputs": [
    {
     "data": {
      "text/plain": [
       "<AxesSubplot:>"
      ]
     },
     "execution_count": 28,
     "metadata": {},
     "output_type": "execute_result"
    },
    {
     "data": {
      "image/png": "[encoded data removed]",
      "text/plain": [
       "<Figure size 504x504 with 2 Axes>"
      ]
     },
     "metadata": {},
     "output_type": "display_data"
    }
   ],
   "source": [
    "# Correlation Plot of the components\n",
    "pca_test_df1=pca_test_df.T\n",
    "corr_mat=pca_test_df1.corr(method='pearson')\n",
    "plt.figure(figsize=(7,7))\n",
    "sns.heatmap(corr_mat,vmax=1,square=True,annot=True,cmap='coolwarm')"
   ]
  },
  {
   "cell_type": "markdown",
   "metadata": {},
   "source": [
    "### Data Modelling"
   ]
  },
  {
   "cell_type": "markdown",
   "metadata": {},
   "source": [
    "##### Logistic Regression"
   ]
  },
  {
   "cell_type": "code",
   "execution_count": 29,
   "metadata": {
    "scrolled": true
   },
   "outputs": [
    {
     "data": {
      "text/html": [
       "<div>\n",
       "<style scoped>\n",
       "    .dataframe tbody tr th:only-of-type {\n",
       "        vertical-align: middle;\n",
       "    }\n",
       "\n",
       "    .dataframe tbody tr th {\n",
       "        vertical-align: top;\n",
       "    }\n",
       "\n",
       "    .dataframe thead th {\n",
       "        text-align: right;\n",
       "    }\n",
       "</style>\n",
       "<table border=\"1\" class=\"dataframe\">\n",
       "  <thead>\n",
       "    <tr style=\"text-align: right;\">\n",
       "      <th></th>\n",
       "      <th>Attribute</th>\n",
       "      <th>VIF Scores</th>\n",
       "    </tr>\n",
       "  </thead>\n",
       "  <tbody>\n",
       "    <tr>\n",
       "      <th>0</th>\n",
       "      <td>NumberPages</td>\n",
       "      <td>inf</td>\n",
       "    </tr>\n",
       "    <tr>\n",
       "      <th>1</th>\n",
       "      <td>RequestedHumanRevision</td>\n",
       "      <td>40.549901</td>\n",
       "    </tr>\n",
       "    <tr>\n",
       "      <th>2</th>\n",
       "      <td>QualityControl</td>\n",
       "      <td>77.398716</td>\n",
       "    </tr>\n",
       "    <tr>\n",
       "      <th>3</th>\n",
       "      <td>pf_human</td>\n",
       "      <td>inf</td>\n",
       "    </tr>\n",
       "    <tr>\n",
       "      <th>4</th>\n",
       "      <td>efv</td>\n",
       "      <td>17.312537</td>\n",
       "    </tr>\n",
       "    <tr>\n",
       "      <th>5</th>\n",
       "      <td>pfd_topdown</td>\n",
       "      <td>1.292041</td>\n",
       "    </tr>\n",
       "    <tr>\n",
       "      <th>6</th>\n",
       "      <td>pfd_poised</td>\n",
       "      <td>3.535241</td>\n",
       "    </tr>\n",
       "    <tr>\n",
       "      <th>7</th>\n",
       "      <td>sfv_human</td>\n",
       "      <td>15.530805</td>\n",
       "    </tr>\n",
       "    <tr>\n",
       "      <th>8</th>\n",
       "      <td>sfv_ML</td>\n",
       "      <td>4.224227</td>\n",
       "    </tr>\n",
       "    <tr>\n",
       "      <th>9</th>\n",
       "      <td>HasMultipleDocumentClass</td>\n",
       "      <td>12.825264</td>\n",
       "    </tr>\n",
       "    <tr>\n",
       "      <th>10</th>\n",
       "      <td>EntityName_ent2</td>\n",
       "      <td>9.467712</td>\n",
       "    </tr>\n",
       "    <tr>\n",
       "      <th>11</th>\n",
       "      <td>EntityName_ent3</td>\n",
       "      <td>72.509013</td>\n",
       "    </tr>\n",
       "    <tr>\n",
       "      <th>12</th>\n",
       "      <td>EntityName_ent4</td>\n",
       "      <td>5.320701</td>\n",
       "    </tr>\n",
       "  </tbody>\n",
       "</table>\n",
       "</div>"
      ],
      "text/plain": [
       "                   Attribute  VIF Scores\n",
       "0                NumberPages         inf\n",
       "1     RequestedHumanRevision   40.549901\n",
       "2             QualityControl   77.398716\n",
       "3                   pf_human         inf\n",
       "4                        efv   17.312537\n",
       "5                pfd_topdown    1.292041\n",
       "6                 pfd_poised    3.535241\n",
       "7                  sfv_human   15.530805\n",
       "8                     sfv_ML    4.224227\n",
       "9   HasMultipleDocumentClass   12.825264\n",
       "10           EntityName_ent2    9.467712\n",
       "11           EntityName_ent3   72.509013\n",
       "12           EntityName_ent4    5.320701"
      ]
     },
     "metadata": {},
     "output_type": "display_data"
    }
   ],
   "source": [
    "#calculate Variance Inflation Factor to check multicollinearity between independent variables\n",
    "df_new = model_df.drop(['Breach_Yes'], axis = 1)\n",
    "\n",
    "vif_scores = pd.DataFrame()\n",
    "\n",
    "vif_scores[\"Attribute\"] = df_new.columns\n",
    "\n",
    "# calculating VIF for each feature\n",
    "\n",
    "vif_scores[\"VIF Scores\"] = [variance_inflation_factor(df_new.values, i) for i in range(len(df_new.columns))]\n",
    "\n",
    "display(vif_scores)"
   ]
  },
  {
   "cell_type": "code",
   "execution_count": 30,
   "metadata": {
    "scrolled": true
   },
   "outputs": [],
   "source": [
    "# Remove all the variables with VIF values greater than 5 to avoid multicollinearity between the independent variables\n",
    "df_new = df_new.drop(['pf_human','QualityControl','RequestedHumanRevision','efv','pfd_poised'],1)"
   ]
  },
  {
   "cell_type": "code",
   "execution_count": 31,
   "metadata": {},
   "outputs": [
    {
     "data": {
      "text/html": [
       "<div>\n",
       "<style scoped>\n",
       "    .dataframe tbody tr th:only-of-type {\n",
       "        vertical-align: middle;\n",
       "    }\n",
       "\n",
       "    .dataframe tbody tr th {\n",
       "        vertical-align: top;\n",
       "    }\n",
       "\n",
       "    .dataframe thead th {\n",
       "        text-align: right;\n",
       "    }\n",
       "</style>\n",
       "<table border=\"1\" class=\"dataframe\">\n",
       "  <thead>\n",
       "    <tr style=\"text-align: right;\">\n",
       "      <th></th>\n",
       "      <th>Attribute</th>\n",
       "      <th>VIF Scores</th>\n",
       "    </tr>\n",
       "  </thead>\n",
       "  <tbody>\n",
       "    <tr>\n",
       "      <th>0</th>\n",
       "      <td>NumberPages</td>\n",
       "      <td>3.500277</td>\n",
       "    </tr>\n",
       "    <tr>\n",
       "      <th>1</th>\n",
       "      <td>pfd_topdown</td>\n",
       "      <td>1.323901</td>\n",
       "    </tr>\n",
       "    <tr>\n",
       "      <th>2</th>\n",
       "      <td>sfv_human</td>\n",
       "      <td>1.398812</td>\n",
       "    </tr>\n",
       "    <tr>\n",
       "      <th>3</th>\n",
       "      <td>sfv_ML</td>\n",
       "      <td>4.425801</td>\n",
       "    </tr>\n",
       "    <tr>\n",
       "      <th>4</th>\n",
       "      <td>HasMultipleDocumentClass</td>\n",
       "      <td>3.207957</td>\n",
       "    </tr>\n",
       "    <tr>\n",
       "      <th>5</th>\n",
       "      <td>EntityName_ent2</td>\n",
       "      <td>1.464261</td>\n",
       "    </tr>\n",
       "    <tr>\n",
       "      <th>6</th>\n",
       "      <td>EntityName_ent3</td>\n",
       "      <td>1.111248</td>\n",
       "    </tr>\n",
       "    <tr>\n",
       "      <th>7</th>\n",
       "      <td>EntityName_ent4</td>\n",
       "      <td>1.126566</td>\n",
       "    </tr>\n",
       "  </tbody>\n",
       "</table>\n",
       "</div>"
      ],
      "text/plain": [
       "                  Attribute  VIF Scores\n",
       "0               NumberPages    3.500277\n",
       "1               pfd_topdown    1.323901\n",
       "2                 sfv_human    1.398812\n",
       "3                    sfv_ML    4.425801\n",
       "4  HasMultipleDocumentClass    3.207957\n",
       "5           EntityName_ent2    1.464261\n",
       "6           EntityName_ent3    1.111248\n",
       "7           EntityName_ent4    1.126566"
      ]
     },
     "metadata": {},
     "output_type": "display_data"
    }
   ],
   "source": [
    "#calculate Variance Inflation Factor to check multicollinearity between independent variables\n",
    "\n",
    "vif_scores = pd.DataFrame()\n",
    "\n",
    "vif_scores[\"Attribute\"] = df_new.columns\n",
    "\n",
    "# calculating VIF for each feature\n",
    "\n",
    "vif_scores[\"VIF Scores\"] = [variance_inflation_factor(df_new.values, i) for i in range(len(df_new.columns))]\n",
    "\n",
    "display(vif_scores)"
   ]
  },
  {
   "cell_type": "code",
   "execution_count": 34,
   "metadata": {},
   "outputs": [
    {
     "name": "stdout",
     "output_type": "stream",
     "text": [
      "Optimization terminated successfully.\n",
      "         Current function value: 52.926146\n",
      "         Iterations 7\n",
      "                             Results: Logit\n",
      "========================================================================\n",
      "Model:                 Logit             Pseudo R-squared:  inf         \n",
      "Dependent Variable:    Breach_Yes        AIC:               4093429.9848\n",
      "Date:                  2022-09-02 05:07  BIC:               4093498.4875\n",
      "No. Observations:      38671             Log-Likelihood:    -2.0467e+06 \n",
      "Df Model:              7                 LL-Null:           0.0000      \n",
      "Df Residuals:          38663             LLR p-value:       1.0000      \n",
      "Converged:             1.0000            Scale:             1.0000      \n",
      "No. Iterations:        7.0000                                           \n",
      "------------------------------------------------------------------------\n",
      "                          Coef.  Std.Err.    z    P>|z|   [0.025  0.975]\n",
      "------------------------------------------------------------------------\n",
      "NumberPages              -0.0372   0.0163 -2.2817 0.0225 -0.0692 -0.0052\n",
      "pfd_topdown               0.4899   0.0245 19.9935 0.0000  0.4419  0.5380\n",
      "sfv_human                 0.0053   0.0306  0.1738 0.8620 -0.0546  0.0653\n",
      "sfv_ML                    0.0634   0.0151  4.2070 0.0000  0.0339  0.0930\n",
      "HasMultipleDocumentClass  0.3639   0.0378  9.6216 0.0000  0.2898  0.4380\n",
      "EntityName_ent2           0.6928   0.0330 20.9760 0.0000  0.6281  0.7576\n",
      "EntityName_ent3           0.2722   0.0203 13.4368 0.0000  0.2325  0.3119\n",
      "EntityName_ent4           0.2099   0.0243  8.6275 0.0000  0.1622  0.2576\n",
      "========================================================================\n",
      "\n"
     ]
    }
   ],
   "source": [
    "# Consider the above independent variables and store them\n",
    "X = df_new\n",
    "y = model_df['Breach_Yes']\n",
    "\n",
    "# Standardize the distribution of the independent variables\n",
    "X_scaled = preprocessing.scale(X)\n",
    "# preprocessing.scale() returns a 2-d array not a DataFrame so we make our scaled variables a DataFrame.\n",
    "X_scaled = pd.DataFrame(X_scaled,columns=X.columns)\n",
    "\n",
    "# Build the logistic model\n",
    "logit_model=sm.Logit(y,X_scaled)\n",
    "result=logit_model.fit()\n",
    "print(result.summary2())"
   ]
  },
  {
   "cell_type": "code",
   "execution_count": 35,
   "metadata": {},
   "outputs": [
    {
     "name": "stdout",
     "output_type": "stream",
     "text": [
      "Optimization terminated successfully.\n",
      "         Current function value: 52.919384\n",
      "         Iterations 6\n",
      "                             Results: Logit\n",
      "========================================================================\n",
      "Model:                 Logit             Pseudo R-squared:  inf         \n",
      "Dependent Variable:    Breach_Yes        AIC:               4092904.9749\n",
      "Date:                  2022-09-02 05:07  BIC:               4092964.9149\n",
      "No. Observations:      38671             Log-Likelihood:    -2.0464e+06 \n",
      "Df Model:              6                 LL-Null:           0.0000      \n",
      "Df Residuals:          38664             LLR p-value:       1.0000      \n",
      "Converged:             1.0000            Scale:             1.0000      \n",
      "No. Iterations:        6.0000                                           \n",
      "------------------------------------------------------------------------\n",
      "                          Coef.  Std.Err.    z    P>|z|   [0.025  0.975]\n",
      "------------------------------------------------------------------------\n",
      "NumberPages              -0.0366   0.0159 -2.3076 0.0210 -0.0677 -0.0055\n",
      "pfd_topdown               0.4907   0.0241 20.3773 0.0000  0.4435  0.5379\n",
      "sfv_ML                    0.0632   0.0150  4.2076 0.0000  0.0338  0.0927\n",
      "HasMultipleDocumentClass  0.3635   0.0378  9.6287 0.0000  0.2895  0.4375\n",
      "EntityName_ent2           0.6925   0.0330 21.0072 0.0000  0.6279  0.7571\n",
      "EntityName_ent3           0.2721   0.0202 13.4415 0.0000  0.2324  0.3117\n",
      "EntityName_ent4           0.2099   0.0243  8.6261 0.0000  0.1622  0.2575\n",
      "========================================================================\n",
      "\n"
     ]
    }
   ],
   "source": [
    "# Feature elimination using bachward selection technique\n",
    "X_scaled = X_scaled.drop(['sfv_human'],1)\n",
    "\n",
    "# Re-build the second model\n",
    "logit_model=sm.Logit(y,X_scaled)\n",
    "result=logit_model.fit()\n",
    "print(result.summary2())"
   ]
  },
  {
   "cell_type": "code",
   "execution_count": 36,
   "metadata": {},
   "outputs": [
    {
     "data": {
      "text/html": [
       "<div>\n",
       "<style scoped>\n",
       "    .dataframe tbody tr th:only-of-type {\n",
       "        vertical-align: middle;\n",
       "    }\n",
       "\n",
       "    .dataframe tbody tr th {\n",
       "        vertical-align: top;\n",
       "    }\n",
       "\n",
       "    .dataframe thead th {\n",
       "        text-align: right;\n",
       "    }\n",
       "</style>\n",
       "<table border=\"1\" class=\"dataframe\">\n",
       "  <thead>\n",
       "    <tr style=\"text-align: right;\">\n",
       "      <th></th>\n",
       "      <th>NumberPages</th>\n",
       "      <th>pfd_topdown</th>\n",
       "      <th>sfv_ML</th>\n",
       "      <th>HasMultipleDocumentClass</th>\n",
       "      <th>EntityName_ent2</th>\n",
       "      <th>EntityName_ent3</th>\n",
       "      <th>EntityName_ent4</th>\n",
       "    </tr>\n",
       "  </thead>\n",
       "  <tbody>\n",
       "    <tr>\n",
       "      <th>13855</th>\n",
       "      <td>0.269608</td>\n",
       "      <td>-0.194173</td>\n",
       "      <td>-0.057326</td>\n",
       "      <td>-1.098451</td>\n",
       "      <td>-0.581939</td>\n",
       "      <td>3.789172</td>\n",
       "      <td>-0.390381</td>\n",
       "    </tr>\n",
       "    <tr>\n",
       "      <th>37182</th>\n",
       "      <td>-0.356616</td>\n",
       "      <td>-0.194173</td>\n",
       "      <td>-0.706476</td>\n",
       "      <td>-1.098451</td>\n",
       "      <td>-0.581939</td>\n",
       "      <td>-0.263910</td>\n",
       "      <td>2.561599</td>\n",
       "    </tr>\n",
       "    <tr>\n",
       "      <th>18884</th>\n",
       "      <td>0.269608</td>\n",
       "      <td>-0.194173</td>\n",
       "      <td>0.591824</td>\n",
       "      <td>0.984886</td>\n",
       "      <td>-0.581939</td>\n",
       "      <td>-0.263910</td>\n",
       "      <td>-0.390381</td>\n",
       "    </tr>\n",
       "    <tr>\n",
       "      <th>22812</th>\n",
       "      <td>11.541641</td>\n",
       "      <td>-0.194173</td>\n",
       "      <td>-1.355625</td>\n",
       "      <td>-1.098451</td>\n",
       "      <td>-0.581939</td>\n",
       "      <td>-0.263910</td>\n",
       "      <td>2.561599</td>\n",
       "    </tr>\n",
       "    <tr>\n",
       "      <th>33633</th>\n",
       "      <td>-0.356616</td>\n",
       "      <td>-0.194173</td>\n",
       "      <td>-0.706476</td>\n",
       "      <td>-1.098451</td>\n",
       "      <td>-0.581939</td>\n",
       "      <td>-0.263910</td>\n",
       "      <td>2.561599</td>\n",
       "    </tr>\n",
       "  </tbody>\n",
       "</table>\n",
       "</div>"
      ],
      "text/plain": [
       "       NumberPages  pfd_topdown    sfv_ML  HasMultipleDocumentClass  \\\n",
       "13855     0.269608    -0.194173 -0.057326                 -1.098451   \n",
       "37182    -0.356616    -0.194173 -0.706476                 -1.098451   \n",
       "18884     0.269608    -0.194173  0.591824                  0.984886   \n",
       "22812    11.541641    -0.194173 -1.355625                 -1.098451   \n",
       "33633    -0.356616    -0.194173 -0.706476                 -1.098451   \n",
       "\n",
       "       EntityName_ent2  EntityName_ent3  EntityName_ent4  \n",
       "13855        -0.581939         3.789172        -0.390381  \n",
       "37182        -0.581939        -0.263910         2.561599  \n",
       "18884        -0.581939        -0.263910        -0.390381  \n",
       "22812        -0.581939        -0.263910         2.561599  \n",
       "33633        -0.581939        -0.263910         2.561599  "
      ]
     },
     "execution_count": 36,
     "metadata": {},
     "output_type": "execute_result"
    }
   ],
   "source": [
    "# splitting the data\n",
    "x_train, x_test, y_train, y_test = train_test_split(X_scaled,y, test_size= 0.3,random_state=777)\n",
    "x_train.head()"
   ]
  },
  {
   "cell_type": "code",
   "execution_count": 37,
   "metadata": {},
   "outputs": [
    {
     "name": "stdout",
     "output_type": "stream",
     "text": [
      "Accuracy of logistic regression classifier on test set: 0.8983\n",
      "Mean Absolute Error: 24.97190139631098\n",
      "Mean Squared Error: 0.10170660230994656\n",
      "Root Mean Squared Error: 0.3189147257652844\n"
     ]
    }
   ],
   "source": [
    "# Fit the model with training data\n",
    "logistic_regression= LogisticRegression()\n",
    "model=logistic_regression.fit(x_train,y_train)\n",
    "\n",
    "# Predicting using test data\n",
    "y_pred = logistic_regression.predict(x_test)\n",
    "log_acc=logistic_regression.score(x_test, y_test)\n",
    "print('Accuracy of logistic regression classifier on test set: {:.4f}'.format(logistic_regression.score(x_test, y_test)))\n",
    "print('Mean Absolute Error:', metrics.mean_absolute_error(y_test, y_pred))\n",
    "print('Mean Squared Error:', metrics.mean_squared_error(y_test, y_pred))\n",
    "print('Root Mean Squared Error:', np.sqrt(metrics.mean_squared_error(y_test, y_pred)))"
   ]
  },
  {
   "cell_type": "code",
   "execution_count": 41,
   "metadata": {},
   "outputs": [
    {
     "data": {
      "text/plain": [
       "<AxesSubplot:title={'center':'Feature Importance'}>"
      ]
     },
     "execution_count": 41,
     "metadata": {},
     "output_type": "execute_result"
    },
    {
     "data": {
      "image/png": "[encoded data removed]",
      "text/plain": [
       "<Figure size 432x288 with 1 Axes>"
      ]
     },
     "metadata": {},
     "output_type": "display_data"
    }
   ],
   "source": [
    "importance = logistic_regression.coef_[0]\n",
    "#importance is a list so you can plot it. \n",
    "feat_importances = pd.Series(importance,  index=x_train.columns)\n",
    "feat_importances.nlargest(20).plot(kind='barh',title = 'Feature Importance')"
   ]
  },
  {
   "cell_type": "code",
   "execution_count": 42,
   "metadata": {},
   "outputs": [
    {
     "data": {
      "text/plain": [
       "<AxesSubplot:>"
      ]
     },
     "execution_count": 42,
     "metadata": {},
     "output_type": "execute_result"
    },
    {
     "data": {
      "image/png": "[encoded data removed]",
      "text/plain": [
       "<Figure size 432x360 with 2 Axes>"
      ]
     },
     "metadata": {},
     "output_type": "display_data"
    }
   ],
   "source": [
    "# Confusion Matrix of Logistic regression.\n",
    "cnf_matrix = metrics.confusion_matrix(y_test,y_pred)\n",
    "cnf_matrix\n",
    "fig = plt.gcf()\n",
    "fig.set_size_inches(6, 5)\n",
    "group_names = ['True Neg','False Pos','False Neg','True Pos']\n",
    "group_counts = [\"{0:0.0f}\".format(value) for value in\n",
    "                cnf_matrix.flatten()]\n",
    "group_percentages = [\"{0:.2%}\".format(value) for value in\n",
    "                     cnf_matrix.flatten()/np.sum(cnf_matrix)]\n",
    "labels = [f\"{v1}\\n{v2}\\n{v3}\" for v1, v2, v3 in\n",
    "          zip(group_names,group_counts,group_percentages)]\n",
    "labels = np.asarray(labels).reshape(2,2)\n",
    "sns.heatmap(cnf_matrix, annot=labels, fmt='', cmap='Blues')\n"
   ]
  },
  {
   "cell_type": "code",
   "execution_count": 44,
   "metadata": {},
   "outputs": [
    {
     "name": "stdout",
     "output_type": "stream",
     "text": [
      "=== Classification Report ===\n",
      "              precision    recall  f1-score   support\n",
      "\n",
      "           0       0.90      1.00      0.95     10377\n",
      "           1       0.67      0.07      0.13      1225\n",
      "\n",
      "    accuracy                           0.90     11602\n",
      "   macro avg       0.79      0.53      0.54     11602\n",
      "weighted avg       0.88      0.90      0.86     11602\n",
      "\n",
      "\n",
      "\n"
     ]
    }
   ],
   "source": [
    "print(\"=== Classification Report ===\")\n",
    "print(classification_report(y_test, y_pred))\n",
    "print('\\n')"
   ]
  },
  {
   "cell_type": "markdown",
   "metadata": {},
   "source": [
    "##### K-Nearest Neighbors Classifier"
   ]
  },
  {
   "cell_type": "code",
   "execution_count": 812,
   "metadata": {},
   "outputs": [
    {
     "name": "stdout",
     "output_type": "stream",
     "text": [
      "Minimum error:- 0.09834511291156697 at K = 26\n"
     ]
    },
    {
     "data": {
      "image/png": "[encoded data removed]",
      "text/plain": [
       "<Figure size 720x432 with 1 Axes>"
      ]
     },
     "metadata": {},
     "output_type": "display_data"
    }
   ],
   "source": [
    "# Get the optimal k value with minimum error\n",
    "error_rate = []\n",
    "for i in range(1,40):\n",
    " knn = KNeighborsClassifier(n_neighbors=i)\n",
    " knn.fit(X_train_scaled,y_train)\n",
    " pred_i = knn.predict(X_test_scaled)\n",
    " error_rate.append(np.mean(pred_i != y_test))\n",
    "\n",
    "plt.figure(figsize=(10,6))\n",
    "plt.plot(range(1,40),error_rate,color='blue', linestyle='dashed', \n",
    "         marker='o',markerfacecolor='red', markersize=10)\n",
    "plt.title('Error Rate vs. K Value')\n",
    "plt.xlabel('K')\n",
    "plt.ylabel('Error Rate')\n",
    "print(\"Minimum error:-\",min(error_rate),\"at K =\",error_rate.index(min(error_rate)))"
   ]
  },
  {
   "cell_type": "code",
   "execution_count": 814,
   "metadata": {},
   "outputs": [
    {
     "name": "stdout",
     "output_type": "stream",
     "text": [
      "Accuracy of model at K=26 is 0.8997586622996036\n"
     ]
    }
   ],
   "source": [
    "# Train Model with the optimal k value\n",
    "k = 26\n",
    "neigh = KNeighborsClassifier(n_neighbors = k).fit(X_train_scaled,y_train)\n",
    "Pred_y = neigh.predict(X_test_scaled)\n",
    "print(\"Accuracy of model at K=26 is\",metrics.accuracy_score(y_test, Pred_y))"
   ]
  },
  {
   "cell_type": "code",
   "execution_count": 815,
   "metadata": {},
   "outputs": [],
   "source": [
    "# Make predictions on the model using test data\n",
    "y_test_knn=neigh.predict(X_test_scaled)"
   ]
  },
  {
   "cell_type": "code",
   "execution_count": 816,
   "metadata": {},
   "outputs": [
    {
     "name": "stdout",
     "output_type": "stream",
     "text": [
      "Accuracy Score: 0.8997586622996036\n"
     ]
    }
   ],
   "source": [
    "# Accuracy of the KNN model\n",
    "Knn_test_acc=accuracy_score(y_test, y_test_knn) \n",
    "print(f'Accuracy Score: {Knn_test_acc}')"
   ]
  },
  {
   "cell_type": "code",
   "execution_count": 817,
   "metadata": {},
   "outputs": [
    {
     "name": "stdout",
     "output_type": "stream",
     "text": [
      "Accuracy of KNN classifier on test set: 0.8998\n",
      "Mean Absolute Error: 21.095414583692467\n",
      "Mean Squared Error: 0.10024133770039648\n",
      "Root Mean Squared Error: 0.3166091244743216\n"
     ]
    }
   ],
   "source": [
    "print('Accuracy of KNN classifier on test set: {:.4f}'.format(accuracy_score(y_test, y_test_knn)))\n",
    "print('Mean Absolute Error:', metrics.mean_absolute_error(y_test, y_test_knn))\n",
    "print('Mean Squared Error:', metrics.mean_squared_error(y_test, y_test_knn))\n",
    "print('Root Mean Squared Error:', np.sqrt(metrics.mean_squared_error(y_test, y_test_knn)))"
   ]
  },
  {
   "cell_type": "code",
   "execution_count": 818,
   "metadata": {},
   "outputs": [
    {
     "data": {
      "text/plain": [
       "<AxesSubplot:>"
      ]
     },
     "execution_count": 818,
     "metadata": {},
     "output_type": "execute_result"
    },
    {
     "data": {
      "image/png": "[encoded data removed]",
      "text/plain": [
       "<Figure size 432x360 with 2 Axes>"
      ]
     },
     "metadata": {},
     "output_type": "display_data"
    }
   ],
   "source": [
    "# Plotting Confusion matrix for KNN model\n",
    "cnf_matrix = metrics.confusion_matrix(y_test,y_test_knn)\n",
    "cnf_matrix\n",
    "fig = plt.gcf()\n",
    "fig.set_size_inches(6, 5)\n",
    "group_names = ['True Neg','False Pos','False Neg','True Pos']\n",
    "group_counts = [\"{0:0.0f}\".format(value) for value in\n",
    "                cnf_matrix.flatten()]\n",
    "group_percentages = [\"{0:.2%}\".format(value) for value in\n",
    "                     cnf_matrix.flatten()/np.sum(cnf_matrix)]\n",
    "labels = [f\"{v1}\\n{v2}\\n{v3}\" for v1, v2, v3 in\n",
    "          zip(group_names,group_counts,group_percentages)]\n",
    "labels = np.asarray(labels).reshape(2,2)\n",
    "sns.heatmap(cnf_matrix, annot=labels, fmt='', cmap='Blues')"
   ]
  },
  {
   "cell_type": "code",
   "execution_count": 819,
   "metadata": {},
   "outputs": [
    {
     "name": "stdout",
     "output_type": "stream",
     "text": [
      "=== Classification Report ===\n",
      "              precision    recall  f1-score   support\n",
      "\n",
      "           0       0.91      0.98      0.95     10400\n",
      "           1       0.54      0.20      0.29      1202\n",
      "\n",
      "    accuracy                           0.90     11602\n",
      "   macro avg       0.73      0.59      0.62     11602\n",
      "weighted avg       0.88      0.90      0.88     11602\n",
      "\n",
      "\n",
      "\n"
     ]
    }
   ],
   "source": [
    "print(\"=== Classification Report ===\")\n",
    "print(classification_report(y_test, y_test_knn))\n",
    "print('\\n')"
   ]
  },
  {
   "cell_type": "markdown",
   "metadata": {},
   "source": [
    "##### Decision Tree Classifier"
   ]
  },
  {
   "cell_type": "code",
   "execution_count": 820,
   "metadata": {},
   "outputs": [],
   "source": [
    "# Create Decision Tree classifer object\n",
    "clf = DecisionTreeClassifier(max_depth=4)"
   ]
  },
  {
   "cell_type": "code",
   "execution_count": 821,
   "metadata": {},
   "outputs": [],
   "source": [
    "# Train Decision Tree Classifer with train data\n",
    "clf = clf.fit(X_train_scaled,y_train)"
   ]
  },
  {
   "cell_type": "code",
   "execution_count": 822,
   "metadata": {},
   "outputs": [],
   "source": [
    "# Make predictions on the model using test data\n",
    "y_test_pred = clf.predict(X_test_scaled)                                  "
   ]
  },
  {
   "cell_type": "code",
   "execution_count": 823,
   "metadata": {},
   "outputs": [
    {
     "name": "stdout",
     "output_type": "stream",
     "text": [
      "Accuracy Score: 0.9004481985864506\n"
     ]
    }
   ],
   "source": [
    "# Accuracy of the decision tree model\n",
    "Dcst_test_acc = accuracy_score(y_test, y_test_pred)\n",
    "print(f'Accuracy Score: {Dcst_test_acc}') "
   ]
  },
  {
   "cell_type": "code",
   "execution_count": 824,
   "metadata": {},
   "outputs": [
    {
     "data": {
      "image/png": "[encoded data removed]",
      "text/plain": [
       "<Figure size 1440x1440 with 1 Axes>"
      ]
     },
     "metadata": {},
     "output_type": "display_data"
    },
    {
     "data": {
      "text/plain": [
       "array([0.15565383, 0.02287726, 0.09371467, 0.62769802, 0.10005622])"
      ]
     },
     "execution_count": 824,
     "metadata": {},
     "output_type": "execute_result"
    }
   ],
   "source": [
    "# Plot decision tree\n",
    "fig, ax = plt.subplots(figsize=(20, 20))\n",
    "tree.plot_tree(clf, feature_names=X.columns, class_names=[\"Breached\",\"Not Breached\"],filled=True,fontsize=8)\n",
    "plt.show()\n",
    "\n",
    "importance = clf.feature_importances_\n",
    "importance"
   ]
  },
  {
   "cell_type": "code",
   "execution_count": 825,
   "metadata": {},
   "outputs": [
    {
     "name": "stdout",
     "output_type": "stream",
     "text": [
      "Accuracy: 0.9004481985864506\n"
     ]
    }
   ],
   "source": [
    "# Accuracy of decision tree model\n",
    "print(\"Accuracy:\",metrics.accuracy_score(y_test, y_test_pred))"
   ]
  },
  {
   "cell_type": "code",
   "execution_count": 826,
   "metadata": {},
   "outputs": [
    {
     "data": {
      "image/png": "[encoded data removed]",
      "text/plain": [
       "<Figure size 360x216 with 1 Axes>"
      ]
     },
     "metadata": {},
     "output_type": "display_data"
    },
    {
     "data": {
      "text/html": [
       "<div>\n",
       "<style scoped>\n",
       "    .dataframe tbody tr th:only-of-type {\n",
       "        vertical-align: middle;\n",
       "    }\n",
       "\n",
       "    .dataframe tbody tr th {\n",
       "        vertical-align: top;\n",
       "    }\n",
       "\n",
       "    .dataframe thead th {\n",
       "        text-align: right;\n",
       "    }\n",
       "</style>\n",
       "<table border=\"1\" class=\"dataframe\">\n",
       "  <thead>\n",
       "    <tr style=\"text-align: right;\">\n",
       "      <th></th>\n",
       "      <th>Feature</th>\n",
       "      <th>Importance</th>\n",
       "    </tr>\n",
       "  </thead>\n",
       "  <tbody>\n",
       "    <tr>\n",
       "      <th>0</th>\n",
       "      <td>pf_human</td>\n",
       "      <td>0.627698</td>\n",
       "    </tr>\n",
       "    <tr>\n",
       "      <th>1</th>\n",
       "      <td>NumberPages</td>\n",
       "      <td>0.155654</td>\n",
       "    </tr>\n",
       "    <tr>\n",
       "      <th>2</th>\n",
       "      <td>efv</td>\n",
       "      <td>0.100056</td>\n",
       "    </tr>\n",
       "    <tr>\n",
       "      <th>3</th>\n",
       "      <td>QualityControl</td>\n",
       "      <td>0.093715</td>\n",
       "    </tr>\n",
       "    <tr>\n",
       "      <th>4</th>\n",
       "      <td>RequestedHumanRevision</td>\n",
       "      <td>0.022877</td>\n",
       "    </tr>\n",
       "  </tbody>\n",
       "</table>\n",
       "</div>"
      ],
      "text/plain": [
       "                  Feature  Importance\n",
       "0                pf_human    0.627698\n",
       "1             NumberPages    0.155654\n",
       "2                     efv    0.100056\n",
       "3          QualityControl    0.093715\n",
       "4  RequestedHumanRevision    0.022877"
      ]
     },
     "execution_count": 826,
     "metadata": {},
     "output_type": "execute_result"
    }
   ],
   "source": [
    "# Plot to show feature importance\n",
    "feat_dict= {}\n",
    "for col, val in sorted(zip(X.columns, clf.feature_importances_),key=lambda x:x[1],reverse=True):\n",
    "  feat_dict[col]=val\n",
    "feat_df = pd.DataFrame({'Feature':feat_dict.keys(),'Importance':feat_dict.values()})\n",
    "values = feat_df.Importance    \n",
    "idx = feat_df.Feature\n",
    "plt.figure(figsize=(5,3))\n",
    "clrs = ['grey' if (x < max(values)) else 'blue' for x in values ]\n",
    "sns.barplot(y=idx,x=values,palette=clrs).set(title='Important features to predict SLA Breaches')\n",
    "plt.show()\n",
    "feat_df"
   ]
  },
  {
   "cell_type": "code",
   "execution_count": 827,
   "metadata": {},
   "outputs": [
    {
     "name": "stdout",
     "output_type": "stream",
     "text": [
      "Accuracy of Decision Tree classifier on test set: 0.9004\n",
      "Mean Absolute Error: 23.590501637648682\n",
      "Mean Squared Error: 0.09955180141354938\n",
      "Root Mean Squared Error: 0.31551830598801933\n"
     ]
    }
   ],
   "source": [
    "print('Accuracy of Decision Tree classifier on test set: {:.4f}'.format(metrics.accuracy_score(y_test, y_test_pred)))\n",
    "print('Mean Absolute Error:', metrics.mean_absolute_error(y_test, y_test_pred))\n",
    "print('Mean Squared Error:', metrics.mean_squared_error(y_test, y_test_pred))\n",
    "print('Root Mean Squared Error:', np.sqrt(metrics.mean_squared_error(y_test, y_test_pred)))"
   ]
  },
  {
   "cell_type": "code",
   "execution_count": 828,
   "metadata": {},
   "outputs": [
    {
     "data": {
      "text/plain": [
       "<AxesSubplot:>"
      ]
     },
     "execution_count": 828,
     "metadata": {},
     "output_type": "execute_result"
    },
    {
     "data": {
      "image/png": "[encoded data removed]",
      "text/plain": [
       "<Figure size 432x360 with 2 Axes>"
      ]
     },
     "metadata": {},
     "output_type": "display_data"
    }
   ],
   "source": [
    "# Plotting Confusion matrix for decision tree\n",
    "cnf_matrix = metrics.confusion_matrix(y_test,y_test_pred)\n",
    "cnf_matrix\n",
    "fig = plt.gcf()\n",
    "fig.set_size_inches(6, 5)\n",
    "group_names = ['True Neg','False Pos','False Neg','True Pos']\n",
    "group_counts = [\"{0:0.0f}\".format(value) for value in\n",
    "                cnf_matrix.flatten()]\n",
    "group_percentages = [\"{0:.2%}\".format(value) for value in\n",
    "                     cnf_matrix.flatten()/np.sum(cnf_matrix)]\n",
    "labels = [f\"{v1}\\n{v2}\\n{v3}\" for v1, v2, v3 in\n",
    "          zip(group_names,group_counts,group_percentages)]\n",
    "labels = np.asarray(labels).reshape(2,2)\n",
    "sns.heatmap(cnf_matrix, annot=labels, fmt='', cmap='Blues')"
   ]
  },
  {
   "cell_type": "code",
   "execution_count": 829,
   "metadata": {},
   "outputs": [
    {
     "name": "stdout",
     "output_type": "stream",
     "text": [
      "              precision    recall  f1-score   support\n",
      "\n",
      "           0       0.91      0.99      0.95     10400\n",
      "           1       0.61      0.11      0.18      1202\n",
      "\n",
      "    accuracy                           0.90     11602\n",
      "   macro avg       0.76      0.55      0.56     11602\n",
      "weighted avg       0.88      0.90      0.87     11602\n",
      "\n"
     ]
    }
   ],
   "source": [
    "# Classification Report of decision tree model\n",
    "print(classification_report(y_test, y_test_pred))"
   ]
  },
  {
   "cell_type": "markdown",
   "metadata": {},
   "source": [
    "##### SVM Classifier"
   ]
  },
  {
   "cell_type": "code",
   "execution_count": 830,
   "metadata": {},
   "outputs": [],
   "source": [
    "# Build a svm classifier(linear kernel)\n",
    "svm = svm.SVC(kernel='linear')"
   ]
  },
  {
   "cell_type": "code",
   "execution_count": 831,
   "metadata": {},
   "outputs": [
    {
     "data": {
      "text/html": [
       "<style>#sk-container-id-18 {color: black;background-color: white;}#sk-container-id-18 pre{padding: 0;}#sk-container-id-18 div.sk-toggleable {background-color: white;}#sk-container-id-18 label.sk-toggleable__label {cursor: pointer;display: block;width: 100%;margin-bottom: 0;padding: 0.3em;box-sizing: border-box;text-align: center;}#sk-container-id-18 label.sk-toggleable__label-arrow:before {content: \"▸\";float: left;margin-right: 0.25em;color: #696969;}#sk-container-id-18 label.sk-toggleable__label-arrow:hover:before {color: black;}#sk-container-id-18 div.sk-estimator:hover label.sk-toggleable__label-arrow:before {color: black;}#sk-container-id-18 div.sk-toggleable__content {max-height: 0;max-width: 0;overflow: hidden;text-align: left;background-color: #f0f8ff;}#sk-container-id-18 div.sk-toggleable__content pre {margin: 0.2em;color: black;border-radius: 0.25em;background-color: #f0f8ff;}#sk-container-id-18 input.sk-toggleable__control:checked~div.sk-toggleable__content {max-height: 200px;max-width: 100%;overflow: auto;}#sk-container-id-18 input.sk-toggleable__control:checked~label.sk-toggleable__label-arrow:before {content: \"▾\";}#sk-container-id-18 div.sk-estimator input.sk-toggleable__control:checked~label.sk-toggleable__label {background-color: #d4ebff;}#sk-container-id-18 div.sk-label input.sk-toggleable__control:checked~label.sk-toggleable__label {background-color: #d4ebff;}#sk-container-id-18 input.sk-hidden--visually {border: 0;clip: rect(1px 1px 1px 1px);clip: rect(1px, 1px, 1px, 1px);height: 1px;margin: -1px;overflow: hidden;padding: 0;position: absolute;width: 1px;}#sk-container-id-18 div.sk-estimator {font-family: monospace;background-color: #f0f8ff;border: 1px dotted black;border-radius: 0.25em;box-sizing: border-box;margin-bottom: 0.5em;}#sk-container-id-18 div.sk-estimator:hover {background-color: #d4ebff;}#sk-container-id-18 div.sk-parallel-item::after {content: \"\";width: 100%;border-bottom: 1px solid gray;flex-grow: 1;}#sk-container-id-18 div.sk-label:hover label.sk-toggleable__label {background-color: #d4ebff;}#sk-container-id-18 div.sk-serial::before {content: \"\";position: absolute;border-left: 1px solid gray;box-sizing: border-box;top: 0;bottom: 0;left: 50%;z-index: 0;}#sk-container-id-18 div.sk-serial {display: flex;flex-direction: column;align-items: center;background-color: white;padding-right: 0.2em;padding-left: 0.2em;position: relative;}#sk-container-id-18 div.sk-item {position: relative;z-index: 1;}#sk-container-id-18 div.sk-parallel {display: flex;align-items: stretch;justify-content: center;background-color: white;position: relative;}#sk-container-id-18 div.sk-item::before, #sk-container-id-18 div.sk-parallel-item::before {content: \"\";position: absolute;border-left: 1px solid gray;box-sizing: border-box;top: 0;bottom: 0;left: 50%;z-index: -1;}#sk-container-id-18 div.sk-parallel-item {display: flex;flex-direction: column;z-index: 1;position: relative;background-color: white;}#sk-container-id-18 div.sk-parallel-item:first-child::after {align-self: flex-end;width: 50%;}#sk-container-id-18 div.sk-parallel-item:last-child::after {align-self: flex-start;width: 50%;}#sk-container-id-18 div.sk-parallel-item:only-child::after {width: 0;}#sk-container-id-18 div.sk-dashed-wrapped {border: 1px dashed gray;margin: 0 0.4em 0.5em 0.4em;box-sizing: border-box;padding-bottom: 0.4em;background-color: white;}#sk-container-id-18 div.sk-label label {font-family: monospace;font-weight: bold;display: inline-block;line-height: 1.2em;}#sk-container-id-18 div.sk-label-container {text-align: center;}#sk-container-id-18 div.sk-container {/* jupyter's `normalize.less` sets `[hidden] { display: none; }` but bootstrap.min.css set `[hidden] { display: none !important; }` so we also need the `!important` here to be able to override the default hidden behavior on the sphinx rendered scikit-learn.org. See: https://github.com/scikit-learn/scikit-learn/issues/21755 */display: inline-block !important;position: relative;}#sk-container-id-18 div.sk-text-repr-fallback {display: none;}</style><div id=\"sk-container-id-18\" class=\"sk-top-container\"><div class=\"sk-text-repr-fallback\"><pre>SVC(kernel=&#x27;linear&#x27;)</pre><b>In a Jupyter environment, please rerun this cell to show the HTML representation or trust the notebook. <br />On GitHub, the HTML representation is unable to render, please try loading this page with nbviewer.org.</b></div><div class=\"sk-container\" hidden><div class=\"sk-item\"><div class=\"sk-estimator sk-toggleable\"><input class=\"sk-toggleable__control sk-hidden--visually\" id=\"sk-estimator-id-18\" type=\"checkbox\" checked><label for=\"sk-estimator-id-18\" class=\"sk-toggleable__label sk-toggleable__label-arrow\">SVC</label><div class=\"sk-toggleable__content\"><pre>SVC(kernel=&#x27;linear&#x27;)</pre></div></div></div></div></div>"
      ],
      "text/plain": [
       "SVC(kernel='linear')"
      ]
     },
     "execution_count": 831,
     "metadata": {},
     "output_type": "execute_result"
    }
   ],
   "source": [
    "#Train the model using the training set\n",
    "svm.fit(X_train_scaled, y_train) \n",
    "#logreg.fit(X_train, y_train)\n"
   ]
  },
  {
   "cell_type": "code",
   "execution_count": 832,
   "metadata": {},
   "outputs": [
    {
     "name": "stdout",
     "output_type": "stream",
     "text": [
      "Accuracy: 0.8963971729012239\n"
     ]
    }
   ],
   "source": [
    "#Predict the response for test dataset\n",
    "y_test_pred = svm.predict(X_test_scaled)\n",
    "svm_acc = metrics.accuracy_score(y_test, y_test_pred)\n",
    "print(\"Accuracy:\",svm_acc)"
   ]
  },
  {
   "cell_type": "code",
   "execution_count": 833,
   "metadata": {},
   "outputs": [
    {
     "name": "stdout",
     "output_type": "stream",
     "text": [
      "Accuracy of SVM classifier on test set: 0.8964\n",
      "Mean Absolute Error: 26.418720910187897\n",
      "Mean Squared Error: 0.10360282709877608\n",
      "Root Mean Squared Error: 0.3218739304429237\n"
     ]
    }
   ],
   "source": [
    "print('Accuracy of SVM classifier on test set: {:.4f}'.format(metrics.accuracy_score(y_test, y_test_pred)))\n",
    "print('Mean Absolute Error:', metrics.mean_absolute_error(y_test, y_test_pred))\n",
    "print('Mean Squared Error:', metrics.mean_squared_error(y_test, y_test_pred))\n",
    "print('Root Mean Squared Error:', np.sqrt(metrics.mean_squared_error(y_test, y_test_pred)))"
   ]
  },
  {
   "cell_type": "code",
   "execution_count": 834,
   "metadata": {},
   "outputs": [
    {
     "data": {
      "text/plain": [
       "<AxesSubplot:>"
      ]
     },
     "execution_count": 834,
     "metadata": {},
     "output_type": "execute_result"
    },
    {
     "data": {
      "image/png": "[encoded data removed]",
      "text/plain": [
       "<Figure size 432x360 with 2 Axes>"
      ]
     },
     "metadata": {},
     "output_type": "display_data"
    }
   ],
   "source": [
    "# Confusion Matrix of SVM Classifier\n",
    "cnf_matrix = metrics.confusion_matrix(y_test,y_test_pred)\n",
    "cnf_matrix\n",
    "fig = plt.gcf()\n",
    "fig.set_size_inches(6, 5)\n",
    "group_names = ['True Neg','False Pos','False Neg','True Pos']\n",
    "group_counts = [\"{0:0.0f}\".format(value) for value in\n",
    "                cnf_matrix.flatten()]\n",
    "group_percentages = [\"{0:.2%}\".format(value) for value in\n",
    "                     cnf_matrix.flatten()/np.sum(cnf_matrix)]\n",
    "labels = [f\"{v1}\\n{v2}\\n{v3}\" for v1, v2, v3 in\n",
    "          zip(group_names,group_counts,group_percentages)]\n",
    "labels = np.asarray(labels).reshape(2,2)\n",
    "sns.heatmap(cnf_matrix, annot=labels, fmt='', cmap='Blues')"
   ]
  },
  {
   "cell_type": "code",
   "execution_count": 835,
   "metadata": {
    "scrolled": true
   },
   "outputs": [
    {
     "name": "stdout",
     "output_type": "stream",
     "text": [
      "=== Classification Report ===\n",
      "              precision    recall  f1-score   support\n",
      "\n",
      "           0       0.90      1.00      0.95     10400\n",
      "           1       0.00      0.00      0.00      1202\n",
      "\n",
      "    accuracy                           0.90     11602\n",
      "   macro avg       0.45      0.50      0.47     11602\n",
      "weighted avg       0.80      0.90      0.85     11602\n",
      "\n",
      "\n",
      "\n"
     ]
    }
   ],
   "source": [
    "print(\"=== Classification Report ===\")\n",
    "print(classification_report(y_test, y_test_pred))\n",
    "print('\\n')"
   ]
  },
  {
   "cell_type": "markdown",
   "metadata": {},
   "source": [
    "##### Naive Bayes Classifier"
   ]
  },
  {
   "cell_type": "code",
   "execution_count": 53,
   "metadata": {},
   "outputs": [],
   "source": [
    "# Build and fit the Naive Bayes model with training data\n",
    "gnb = GaussianNB()\n",
    "gnb.fit(X_train_scaled, y_train)\n",
    "\n",
    "# Make predictions on the testing set\n",
    "y_pred = gnb.predict(X_test_scaled)"
   ]
  },
  {
   "cell_type": "code",
   "execution_count": 54,
   "metadata": {
    "scrolled": true
   },
   "outputs": [
    {
     "name": "stdout",
     "output_type": "stream",
     "text": [
      "Gaussian Naive Bayes model accuracy(in %): 85.32149629374246\n"
     ]
    }
   ],
   "source": [
    "# Compare actual response values (y_test) with predicted response values (y_pred)\n",
    "naive_acc= metrics.accuracy_score(y_test, y_pred)\n",
    "print(\"Gaussian Naive Bayes model accuracy(in %):\", metrics.accuracy_score(y_test, y_pred)*100)"
   ]
  },
  {
   "cell_type": "code",
   "execution_count": 55,
   "metadata": {},
   "outputs": [
    {
     "name": "stdout",
     "output_type": "stream",
     "text": [
      "Accuracy of SVM classifier on test set: 0.8532\n",
      "Mean Absolute Error: 22.630667126357526\n",
      "Mean Squared Error: 0.14678503706257542\n",
      "Root Mean Squared Error: 0.38312535424137023\n"
     ]
    }
   ],
   "source": [
    "print('Accuracy of SVM classifier on test set: {:.4f}'.format(metrics.accuracy_score(y_test, y_pred)))\n",
    "print('Mean Absolute Error:', metrics.mean_absolute_error(y_test, y_pred))\n",
    "print('Mean Squared Error:', metrics.mean_squared_error(y_test, y_pred))\n",
    "print('Root Mean Squared Error:', np.sqrt(metrics.mean_squared_error(y_test, y_pred)))"
   ]
  },
  {
   "cell_type": "code",
   "execution_count": 56,
   "metadata": {},
   "outputs": [
    {
     "data": {
      "text/plain": [
       "<AxesSubplot:>"
      ]
     },
     "execution_count": 56,
     "metadata": {},
     "output_type": "execute_result"
    },
    {
     "data": {
      "image/png": "[encoded data removed]",
      "text/plain": [
       "<Figure size 432x360 with 2 Axes>"
      ]
     },
     "metadata": {},
     "output_type": "display_data"
    }
   ],
   "source": [
    "# Confusion Matrix of Naive Bayes Classifier\n",
    "cnf_matrix = metrics.confusion_matrix(y_test,y_pred)\n",
    "cnf_matrix\n",
    "fig = plt.gcf()\n",
    "fig.set_size_inches(6, 5)\n",
    "group_names = ['True Neg','False Pos','False Neg','True Pos']\n",
    "group_counts = [\"{0:0.0f}\".format(value) for value in\n",
    "                cnf_matrix.flatten()]\n",
    "group_percentages = [\"{0:.2%}\".format(value) for value in\n",
    "                     cnf_matrix.flatten()/np.sum(cnf_matrix)]\n",
    "labels = [f\"{v1}\\n{v2}\\n{v3}\" for v1, v2, v3 in\n",
    "          zip(group_names,group_counts,group_percentages)]\n",
    "labels = np.asarray(labels).reshape(2,2)\n",
    "sns.heatmap(cnf_matrix, annot=labels, fmt='', cmap='Blues')"
   ]
  },
  {
   "cell_type": "code",
   "execution_count": 57,
   "metadata": {},
   "outputs": [
    {
     "name": "stdout",
     "output_type": "stream",
     "text": [
      "=== Classification Report ===\n",
      "              precision    recall  f1-score   support\n",
      "\n",
      "           0       0.90      0.94      0.92     10400\n",
      "           1       0.21      0.15      0.17      1202\n",
      "\n",
      "    accuracy                           0.85     11602\n",
      "   macro avg       0.56      0.54      0.54     11602\n",
      "weighted avg       0.83      0.85      0.84     11602\n",
      "\n",
      "\n",
      "\n"
     ]
    }
   ],
   "source": [
    "print(\"=== Classification Report ===\")\n",
    "print(classification_report(y_test, y_pred))\n",
    "print('\\n')"
   ]
  },
  {
   "cell_type": "markdown",
   "metadata": {},
   "source": [
    "### Model Comparison"
   ]
  },
  {
   "cell_type": "code",
   "execution_count": 840,
   "metadata": {},
   "outputs": [],
   "source": [
    "test_acc=[log_acc,Knn_test_acc,Dcst_test_acc,svm_acc,naive_acc]"
   ]
  },
  {
   "cell_type": "code",
   "execution_count": 841,
   "metadata": {},
   "outputs": [
    {
     "data": {
      "text/html": [
       "<div>\n",
       "<style scoped>\n",
       "    .dataframe tbody tr th:only-of-type {\n",
       "        vertical-align: middle;\n",
       "    }\n",
       "\n",
       "    .dataframe tbody tr th {\n",
       "        vertical-align: top;\n",
       "    }\n",
       "\n",
       "    .dataframe thead th {\n",
       "        text-align: right;\n",
       "    }\n",
       "</style>\n",
       "<table border=\"1\" class=\"dataframe\">\n",
       "  <thead>\n",
       "    <tr style=\"text-align: right;\">\n",
       "      <th></th>\n",
       "      <th>Test Acc</th>\n",
       "    </tr>\n",
       "  </thead>\n",
       "  <tbody>\n",
       "    <tr>\n",
       "      <th>Logistic Regression</th>\n",
       "      <td>0.898293</td>\n",
       "    </tr>\n",
       "    <tr>\n",
       "      <th>K-Nearest Neighbors</th>\n",
       "      <td>0.899759</td>\n",
       "    </tr>\n",
       "    <tr>\n",
       "      <th>Decision Tree</th>\n",
       "      <td>0.900448</td>\n",
       "    </tr>\n",
       "    <tr>\n",
       "      <th>SVM</th>\n",
       "      <td>0.896397</td>\n",
       "    </tr>\n",
       "    <tr>\n",
       "      <th>Naive Bayes</th>\n",
       "      <td>0.853215</td>\n",
       "    </tr>\n",
       "  </tbody>\n",
       "</table>\n",
       "</div>"
      ],
      "text/plain": [
       "                     Test Acc\n",
       "Logistic Regression  0.898293\n",
       "K-Nearest Neighbors  0.899759\n",
       "Decision Tree        0.900448\n",
       "SVM                  0.896397\n",
       "Naive Bayes          0.853215"
      ]
     },
     "execution_count": 841,
     "metadata": {},
     "output_type": "execute_result"
    }
   ],
   "source": [
    "col={'Test Acc':test_acc}\n",
    "models=['Logistic Regression','K-Nearest Neighbors','Decision Tree','SVM','Naive Bayes']\n",
    "acc_df = pd.DataFrame(data=col,index=models)\n",
    "acc_df"
   ]
  },
  {
   "cell_type": "code",
   "execution_count": 842,
   "metadata": {},
   "outputs": [
    {
     "data": {
      "text/plain": [
       "<AxesSubplot:title={'center':'Model Comaprison based on Accuracy'}>"
      ]
     },
     "execution_count": 842,
     "metadata": {},
     "output_type": "execute_result"
    },
    {
     "data": {
      "image/png": "[encoded data removed]",
      "text/plain": [
       "<Figure size 648x360 with 1 Axes>"
      ]
     },
     "metadata": {},
     "output_type": "display_data"
    }
   ],
   "source": [
    "# Compare the accuracies of models\n",
    "acc_df.plot(kind='line',legend=False,title='Model Comaprison based on Accuracy',figsize=(9, 5),marker='o') "
   ]
  }
 ],
 "metadata": {
  "kernelspec": {
   "display_name": "Python 3 (ipykernel)",
   "language": "python",
   "name": "python3"
  },
  "language_info": {
   "codemirror_mode": {
    "name": "ipython",
    "version": 3
   },
   "file_extension": ".py",
   "mimetype": "text/x-python",
   "name": "python",
   "nbconvert_exporter": "python",
   "pygments_lexer": "ipython3",
   "version": "3.9.7"
  }
 },
 "nbformat": 4,
 "nbformat_minor": 4
}
